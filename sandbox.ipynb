{
 "cells": [
  {
   "cell_type": "code",
   "execution_count": 9,
   "metadata": {},
   "outputs": [
    {
     "data": {
      "text/plain": [
       "True"
      ]
     },
     "execution_count": 9,
     "metadata": {},
     "output_type": "execute_result"
    }
   ],
   "source": [
    "rcvd = b'\\x00\\x02\\x00\\x00a<\\xf1@\\x00\\x00\\x00<\\x00\\x00\\x00*>M\\xe7\\xc2?1\\xcb`?\\x1f\\x00A\\xbe\\x9f\\xd3\\x04'\n",
    "\n",
    "EOT = b'\\x04'\n",
    "rcvd.endswith(EOT)"
   ]
  }
 ],
 "metadata": {
  "kernelspec": {
   "display_name": "gawkenya",
   "language": "python",
   "name": "python3"
  },
  "language_info": {
   "codemirror_mode": {
    "name": "ipython",
    "version": 3
   },
   "file_extension": ".py",
   "mimetype": "text/x-python",
   "name": "python",
   "nbconvert_exporter": "python",
   "pygments_lexer": "ipython3",
   "version": "3.11.7"
  }
 },
 "nbformat": 4,
 "nbformat_minor": 2
}
