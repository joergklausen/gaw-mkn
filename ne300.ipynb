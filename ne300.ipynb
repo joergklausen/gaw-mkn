{
 "cells": [
  {
   "cell_type": "code",
   "execution_count": 1,
   "metadata": {},
   "outputs": [],
   "source": [
    "from mkndaq.inst.ne300 import NE300\n",
    "\n",
    "cfg = {'ne300': {\n",
    "            'type': 'NE300',\n",
    "            'serial_number': '23-0690',\n",
    "            'serial_id': '0',\n",
    "            'socket': {\n",
    "                'host': '192.168.0.50',\n",
    "                'port': 32783,\n",
    "                'timeout': 2,\n",
    "                'sleep': 0.5,\n",
    "                },\n",
    "            'set_datetime': '',\n",
    "            'sampling_interval': '1',\n",
    "            'staging_zip': True,            \n",
    "            },\n",
    "        'reporting_interval': '10',\n",
    "        'logs': 'C:\\\\Users\\\\jkl/Documents/mkndaq/logs',\n",
    "        'data': 'C:\\\\Users\\\\jkl/Documents/mkndaq/data',\n",
    "        'staging': {\n",
    "            'path': 'C:\\\\Users\\\\jkl/Documents/mkndaq/staging', \n",
    "            },\n",
    "        }"
   ]
  },
  {
   "cell_type": "code",
   "execution_count": 2,
   "metadata": {},
   "outputs": [
    {
     "name": "stdout",
     "output_type": "stream",
     "text": [
      "# Initialize NE300 (name: ne300  S/N: 23-0690)\n"
     ]
    }
   ],
   "source": [
    "ne300 = NE300('ne300', cfg)"
   ]
  },
  {
   "cell_type": "code",
   "execution_count": 4,
   "metadata": {},
   "outputs": [
    {
     "name": "stdout",
     "output_type": "stream",
     "text": [
      "Aurora NE-300 v5.0 ID #230690\n",
      "\n"
     ]
    },
    {
     "data": {
      "text/plain": [
       "(0, 'Aurora NE-300 v5.0 ID #230690\\r\\n')"
      ]
     },
     "execution_count": 4,
     "metadata": {},
     "output_type": "execute_result"
    }
   ],
   "source": [
    "ne300.get_id()"
   ]
  },
  {
   "cell_type": "code",
   "execution_count": 15,
   "metadata": {},
   "outputs": [
    {
     "name": "stdout",
     "output_type": "stream",
     "text": [
      "None\n"
     ]
    }
   ],
   "source": [
    "# print(ne300.do_zero_check())\n",
    "print(ne300.get_all_new_data())"
   ]
  },
  {
   "cell_type": "code",
   "execution_count": 17,
   "metadata": {},
   "outputs": [
    {
     "name": "stdout",
     "output_type": "stream",
     "text": [
      "2024-01-25 13:46:09 .get_data (name=ne300, save=False)\n",
      "(0, '28/2/2024 15:06:01| 2.322338| 0.576890| 2.229601| 0.132363| 3.222214| 0.847194| 25.65|0| 0.00| 967.7|0|0\\r\\n')\n",
      "2024-01-25 13:46:20 .get_data (name=ne300, save=False)\n",
      "(0, '28/2/2024 15:06:12| 3.481950| 0.696555| 3.661671| 0.399642| 5.452749| 1.094731| 25.66|0| 0.00| 967.9|0|0\\r\\n')\n",
      "2024-01-25 13:46:30 .get_data (name=ne300, save=False)\n",
      "(0, '28/2/2024 15:06:22| 4.035142| 0.784061| 4.678331| 0.538571| 7.384386| 1.231662| 25.67|0| 0.00| 967.8|0|0\\r\\n')\n"
     ]
    }
   ],
   "source": [
    "import time\n",
    "for i in range(3):\n",
    "    print(ne300.get_data(sep=\"|\", save=False, get_status_word=False))\n",
    "    time.sleep(10)"
   ]
  },
  {
   "cell_type": "code",
   "execution_count": null,
   "metadata": {},
   "outputs": [],
   "source": [
    "ne300.do_zero_check()\n",
    "time.sleep(60)\n",
    "for i in range(10):\n",
    "    ne300.get_data(save=True)\n",
    "    time.sleep(10)\n",
    "\n",
    "ne300.do_ambient()\n",
    "for i in range(10):\n",
    "    ne300.get_data(save=True)\n",
    "    time.sleep(10)\n"
   ]
  },
  {
   "cell_type": "code",
   "execution_count": null,
   "metadata": {},
   "outputs": [],
   "source": []
  },
  {
   "cell_type": "code",
   "execution_count": 29,
   "metadata": {},
   "outputs": [
    {
     "name": "stdout",
     "output_type": "stream",
     "text": [
      "b'\\x020x0'\n"
     ]
    }
   ],
   "source": [
    "# send data using ACOEM protocol\n",
    "# Byte  |1  |2  |3  |4  |5..6   |7..10      |11 |12\n",
    "#       |STX|sID|CMD|ETX|len    |data       |CS |EOT\n",
    "# chr(2) = STX\n",
    "# chr(3) = ETX\n",
    "# chr(4) = EOT\n",
    "\n",
    "stx = chr(2).encode()\n",
    "etx = chr(3).encode()\n",
    "eot = chr(4).encode()\n",
    "sid = hex(0).encode()\n",
    "# cmd = r'\\x2'.encode()\n",
    "# msb = r'\\x0'.encode()\n",
    "# lsb = r'\\x0'.encode()\n",
    "\n",
    "# chksum = bytes([a^b^c^d^e^f for a,b,c,d,e,f in zip(stx, sid, cmd, etx, msb, lsb)]) \n",
    "msg = (stx + sid)# + cmd + etx + msb + lsb + chksum + eot)\n",
    "print(msg)"
   ]
  },
  {
   "cell_type": "code",
   "execution_count": null,
   "metadata": {},
   "outputs": [],
   "source": [
    "# stx = bytes(chr(2).encode())\n",
    "# cmd = r'1'.encode()\n",
    "# etx = chr(3).encode()\n",
    "# zip(stx, cmd, etx)\n",
    "# bytes([a ^ b ^ c for a, b, c in zip(stx, cmd, etx)])"
   ]
  }
 ],
 "metadata": {
  "kernelspec": {
   "display_name": "Python 3",
   "language": "python",
   "name": "python3"
  },
  "language_info": {
   "codemirror_mode": {
    "name": "ipython",
    "version": 3
   },
   "file_extension": ".py",
   "mimetype": "text/x-python",
   "name": "python",
   "nbconvert_exporter": "python",
   "pygments_lexer": "ipython3",
   "version": "3.11.1"
  }
 },
 "nbformat": 4,
 "nbformat_minor": 2
}
