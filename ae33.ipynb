{
 "cells": [
  {
   "cell_type": "code",
   "execution_count": 1,
   "metadata": {},
   "outputs": [
    {
     "name": "stdout",
     "output_type": "stream",
     "text": [
      "# Read configuration from C:\\Users\\mkn\\mkndaq\\mkndaq.cfg\n",
      "# Initialize AE33 (name: ae33  S/N: AE33-S10-01394)\n",
      "2024-03-22 10:53:26 .get_config (name=ae33)\n"
     ]
    }
   ],
   "source": [
    "import os\n",
    "import time\n",
    "from mkndaq.utils.configparser import config\n",
    "from mkndaq.inst.ae33 import AE33\n",
    "from mkndaq.utils.filetransfer import SFTPClient\n",
    "\n",
    "config_file = os.path.expanduser(\"~/mkndaq/mkndaq.cfg\")\n",
    "\n",
    "# read config file\n",
    "cfg = config(config_file)\n",
    "\n",
    "\n",
    "datafile = os.path.expanduser(f\"~/Desktop/ae33-direct-download-{time.strftime('%Y%m%d%H%M')}.csv\")\n",
    "\n",
    "#  instantiate instrument\n",
    "ae33 = AE33(name=\"ae33\", config=cfg)"
   ]
  },
  {
   "cell_type": "code",
   "execution_count": 2,
   "metadata": {},
   "outputs": [
    {
     "name": "stdout",
     "output_type": "stream",
     "text": [
      "2024-03-22 10:53:49 [ae33] BC: 479 ng/m3 UVPM: 786 ng/m3 (Tape advances remaining: 240)\n"
     ]
    }
   ],
   "source": [
    "ae33.print_ae33()"
   ]
  },
  {
   "cell_type": "code",
   "execution_count": 4,
   "metadata": {},
   "outputs": [],
   "source": [
    "first = 363700\n",
    "last = 375000\n",
    "rows = 8000\n",
    "data = ae33.fetch_from_table(name=\"Data\", first=first, last=last)"
   ]
  },
  {
   "cell_type": "code",
   "execution_count": 6,
   "metadata": {},
   "outputs": [],
   "source": [
    "os.makedirs(os.path.dirname(datafile), exist_ok=True)\n",
    "with open(datafile, \"at\", encoding='utf8') as fh:\n",
    "    fh.write(data[1])\n",
    "    fh.close()"
   ]
  }
 ],
 "metadata": {
  "kernelspec": {
   "display_name": "Python 3",
   "language": "python",
   "name": "python3"
  },
  "language_info": {
   "codemirror_mode": {
    "name": "ipython",
    "version": 3
   },
   "file_extension": ".py",
   "mimetype": "text/x-python",
   "name": "python",
   "nbconvert_exporter": "python",
   "pygments_lexer": "ipython3",
   "version": "3.8.8"
  }
 },
 "nbformat": 4,
 "nbformat_minor": 2
}
