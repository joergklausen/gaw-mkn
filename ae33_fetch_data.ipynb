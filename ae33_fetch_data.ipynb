{
 "cells": [
  {
   "cell_type": "code",
   "execution_count": 11,
   "metadata": {},
   "outputs": [
    {
     "name": "stdout",
     "output_type": "stream",
     "text": [
      "# Initialize AE33 (name: ae33  S/N: AE33-S10-01394)\n",
      "2024-03-18 15:15:41 .get_config (name=ae33)\n",
      "timed out\n",
      "timed out\n",
      "int() argument must be a string, a bytes-like object or a number, not 'NoneType'\n"
     ]
    }
   ],
   "source": [
    "from mkndaq.inst.ae33 import AE33\n",
    "\n",
    "cfg = {\"data\": \"~/Documents/mkndaq/data\",\n",
    "        \"reporting_interval\": 10,\n",
    "        \"staging\": {\n",
    "            \"path\": \"~/Documents/mkndaq/staging\",\n",
    "        },\n",
    "        \"ae33\": {\"type\": \"AE33\",\n",
    "                 \"id\": 169,\n",
    "                 \"serial_number\": \"AE33-S10-01394\",\n",
    "                 \"socket\": {\"host\": \"192.168.3.137\",\n",
    "                            \"port\": 8002,\n",
    "                            \"timeout\": 0.5,\n",
    "                            \"sleep\": 0.5},\n",
    "                 \"get_config\": [\"HELLO\"],\n",
    "                 \"set_config\": [],\n",
    "                 \"set_datetime\": False,          # Should date and time be set when initializing the instrument?\n",
    "                 \"sampling_interval\": 1,        # minutes. How often should data be requested from instrument?\n",
    "                 \"staging_zip\": True,\n",
    "                 \"MAC\": \"C4-00-AD-D8-0A-AC\"\n",
    "            }\n",
    "       }\n",
    "\n",
    "ae33 = AE33(name='ae33', config=cfg)\n",
    "\n",
    "data = ae33.fetch_from_table(name='Data', rows=1000)"
   ]
  }
 ],
 "metadata": {
  "kernelspec": {
   "display_name": "Python 3.9.13 ('.venv': venv)",
   "language": "python",
   "name": "python3"
  },
  "language_info": {
   "codemirror_mode": {
    "name": "ipython",
    "version": 3
   },
   "file_extension": ".py",
   "mimetype": "text/x-python",
   "name": "python",
   "nbconvert_exporter": "python",
   "pygments_lexer": "ipython3",
   "version": "3.12.3"
  },
  "orig_nbformat": 4,
  "vscode": {
   "interpreter": {
    "hash": "805bc528d23d89ad14f380954b4181fa087eca4307fadd1eb76400d684ad789f"
   }
  }
 },
 "nbformat": 4,
 "nbformat_minor": 2
}
