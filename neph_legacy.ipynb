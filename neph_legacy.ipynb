{
 "cells": [
  {
   "cell_type": "code",
   "execution_count": null,
   "metadata": {},
   "outputs": [],
   "source": [
    "import time\n",
    "import datetime\n",
    "from mkndaq.inst.neph import NEPH\n",
    "\n",
    "cfg = {'ne300': {\n",
    "                'type': 'NE300',\n",
    "                'serial_number': '23-0690',\n",
    "                'serial_id': 0,\n",
    "                'protocol': 'legacy',\n",
    "                'socket': {\n",
    "                    'host': '192.168.0.50',\n",
    "                    'port': 32783,\n",
    "                    'timeout': 5,\n",
    "                },\n",
    "                'verbosity': 2,  # 0: silent, 1: medium, 2: full          \n",
    "                'staging_zip': True,  \n",
    "            },\n",
    "                'reporting_interval': '10',\n",
    "                'logs': 'mkndaq/logs',\n",
    "                'data': 'mkndaq/data',\n",
    "                'staging': {\n",
    "                    'path': 'mkndaq/staging',\n",
    "                },\n",
    "}\n",
    "ne300 = NEPH('ne300', cfg)"
   ]
  },
  {
   "cell_type": "code",
   "execution_count": null,
   "metadata": {},
   "outputs": [],
   "source": [
    "ne300.get_id()"
   ]
  },
  {
   "cell_type": "code",
   "execution_count": null,
   "metadata": {},
   "outputs": [],
   "source": [
    "# mimick VI099 response\n",
    "ne300.get_current_data(strict=True)"
   ]
  },
  {
   "cell_type": "code",
   "execution_count": null,
   "metadata": {},
   "outputs": [],
   "source": [
    "ne300.get_current_data()"
   ]
  },
  {
   "cell_type": "code",
   "execution_count": null,
   "metadata": {},
   "outputs": [],
   "source": [
    "# parameter_map = {'legacy': 'acoem',\n",
    "#                  99: [[80, 81],1, 1635000,1525000,1450000,1635090,1525090,1450090,5001,5004,5003,5002,4036,4035],\n",
    "#                  }\n",
    "# parameter_map_legacy = {99: [[80, 81], 1, 30, 2, 31, 3, 32, 18, [], [], 19, 90]}\n",
    "\n",
    "parameters = [0,1,2,3,4,5,6,7,8,9,\n",
    "              10,11,12,13,14,16,18,19,\n",
    "              20,21,22,26,27,28,\n",
    "              30,31,32,33,35,36,37,38,\n",
    "              40,41,\n",
    "              66,68,69,71,\n",
    "              80,81,82,83,84,\n",
    "              90,98,99] #15,17,\n",
    "ne300.get_values(parameters=parameters)"
   ]
  },
  {
   "cell_type": "code",
   "execution_count": null,
   "metadata": {},
   "outputs": [],
   "source": [
    "data = ne300.get_new_data()\n",
    "print(f\"len: {len(data)}\")\n",
    "print(data)"
   ]
  },
  {
   "cell_type": "code",
   "execution_count": null,
   "metadata": {},
   "outputs": [],
   "source": [
    "data = ne300.get_all_data()\n",
    "print(f\"len: {len(data)}\")\n",
    "print(data)"
   ]
  },
  {
   "cell_type": "code",
   "execution_count": null,
   "metadata": {},
   "outputs": [],
   "source": [
    "ne300.get_instr_type()"
   ]
  },
  {
   "cell_type": "code",
   "execution_count": null,
   "metadata": {},
   "outputs": [],
   "source": [
    "# cycle through operating states\n",
    "# 0: ambient, 1: zero, 2: span\n",
    "for i in [1, 2, 0]:\n",
    "    print(f\"current: {ne300.get_current_operation()} > set: {i} ...\")\n",
    "    print(f\"done: {ne300.set_current_operation(state=i)} okay\")\n",
    "    time.sleep(3)\n",
    "# print(f\"current: {ne300.get_current_operation()} > set: {0} ...\")\n",
    "# print(f\"done: {ne300.set_current_operation(state=0)} okay\")"
   ]
  },
  {
   "cell_type": "code",
   "execution_count": null,
   "metadata": {},
   "outputs": [],
   "source": [
    "from datetime import datetime, timezone, timedelta\n",
    "end = datetime.now(timezone.utc)\n",
    "start = end - timedelta(minutes=60)\n",
    "print(f\"start: {start}\\nend  : {end}\")\n",
    "data = ne300.get_logged_data(start=start, end=end, verbosity=0)\n",
    "for i in range(len(data)):\n",
    "    print(data[i])"
   ]
  }
 ],
 "metadata": {
  "kernelspec": {
   "display_name": "Python 3",
   "language": "python",
   "name": "python3"
  },
  "language_info": {
   "codemirror_mode": {
    "name": "ipython",
    "version": 3
   },
   "file_extension": ".py",
   "mimetype": "text/x-python",
   "name": "python",
   "nbconvert_exporter": "python",
   "pygments_lexer": "ipython3",
   "version": "3.11.1"
  }
 },
 "nbformat": 4,
 "nbformat_minor": 2
}
