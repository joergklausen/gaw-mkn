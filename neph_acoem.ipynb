{
 "cells": [
  {
   "cell_type": "code",
   "execution_count": 1,
   "metadata": {},
   "outputs": [
    {
     "name": "stdout",
     "output_type": "stream",
     "text": [
      "# Initialize NEPH (name: ne300  S/N: 23-0690)\n"
     ]
    },
    {
     "name": "stdout",
     "output_type": "stream",
     "text": [
      "  Instrument identified itself as '{'id': 'ACOEM Aurora NE-300 Sub-Type: 0 Range: 0 Build: 158 Branch: 300'}'.\n"
     ]
    }
   ],
   "source": [
    "import time\n",
    "import datetime\n",
    "from mkndaq.inst.neph import NEPH\n",
    "\n",
    "cfg = {'ne300': {\n",
    "                'type': 'NE300',\n",
    "                'serial_number': '23-0690',\n",
    "                'serial_id': 0,\n",
    "                'protocol': 'acoem',\n",
    "                'socket': {\n",
    "                    'host': '192.168.0.50',\n",
    "                    'port': 32783,\n",
    "                    'timeout': 5,\n",
    "                },\n",
    "                # 'set_datetime': '',\n",
    "                # 'sampling_interval': '1',\n",
    "                'staging_zip': True,  \n",
    "                'verbosity': 2,  # 0: silent, 1: medium, 2: full          \n",
    "            },\n",
    "                'reporting_interval': '10',\n",
    "                'logs': 'mkndaq/logs',\n",
    "                'data': 'mkndaq/data',\n",
    "                'staging': {\n",
    "                    'path': 'mkndaq/staging',\n",
    "                },\n",
    "}\n",
    "ne300 = NEPH('ne300', cfg)\n",
    "# # Initialize NEPH (name: ne300  S/N: 23-0690)\n",
    "#   Instrument identified itself as '{'Model': 158, 'Variant': 300, 'Sub-Type': 0, 'Range': 0, 'Build': 158, 'Branch': 300}'."
   ]
  },
  {
   "cell_type": "code",
   "execution_count": 2,
   "metadata": {},
   "outputs": [
    {
     "name": "stdout",
     "output_type": "stream",
     "text": [
      "{'id': 'ACOEM Aurora NE-300 Sub-Type: 0 Range: 0 Build: 158 Branch: 300'}\n"
     ]
    }
   ],
   "source": [
    "res = ne300.get_id()\n",
    "print(res)"
   ]
  },
  {
   "cell_type": "code",
   "execution_count": 3,
   "metadata": {},
   "outputs": [
    {
     "data": {
      "text/plain": [
       "{99: '16/05/2024 12:55:16 0.2798123359680176 -0.05397605895996094 0.41529273986816406 -0.3749265670776367 0.7562541961669922 -0.03302192687988281 25.43999671936035 27.719995498657227 7.37000036239624 956.7999877929688 4.203895392974451e-45 0.0'}"
      ]
     },
     "execution_count": 3,
     "metadata": {},
     "output_type": "execute_result"
    }
   ],
   "source": [
    "# mimick VI099 response\n",
    "ne300.get_current_data(strict=True, verbosity=0)"
   ]
  },
  {
   "cell_type": "code",
   "execution_count": 4,
   "metadata": {},
   "outputs": [
    {
     "data": {
      "text/plain": [
       "{1: datetime.datetime(2024, 5, 16, 12, 55, 20),\n",
       " 1635000: 2.0939722061157227,\n",
       " 1525000: -0.04936790466308594,\n",
       " 1450000: 0.49793052673339844,\n",
       " 1635090: -0.6608588695526123,\n",
       " 1525090: 0.3310256004333496,\n",
       " 1450090: 0.8302202224731445,\n",
       " 5001: 25.45000648498535,\n",
       " 5004: 27.7600040435791,\n",
       " 5003: 7.37000036239624,\n",
       " 5002: 956.77001953125,\n",
       " 4036: 4.203895392974451e-45,\n",
       " 4035: 0.0}"
      ]
     },
     "execution_count": 4,
     "metadata": {},
     "output_type": "execute_result"
    }
   ],
   "source": [
    "ne300.get_current_data(verbosity=0)"
   ]
  },
  {
   "cell_type": "code",
   "execution_count": 5,
   "metadata": {},
   "outputs": [
    {
     "name": "stdout",
     "output_type": "stream",
     "text": [
      "message sent: b'\\x02\\x00\\x04\\x03\\x00\\x08\\x00\\x18\\xf2\\xb8\\x00\\x17E\\x08\\x05\\x04'\n",
      "response (bytes): b'\\x02\\x00\\x04\\x03\\x00\\x08\\xbf\\x96\\x038\\xbe\\xf3\\xb4 \\xc6\\x04'\n",
      "response length : 2\n",
      "items: 2\n",
      "items (bytes): [b'\\xbf\\x96\\x038', b'\\xbe\\xf3\\xb4 ']\n",
      "response items (bytes):\n",
      "{1635000: b'\\xbf\\x96\\x038', 1525000: b'\\xbe\\xf3\\xb4 '}\n",
      "response items:\n",
      "{1635000: -1.1719732284545898, 1525000: -0.4759836196899414}\n"
     ]
    },
    {
     "data": {
      "text/plain": [
       "{1635000: -1.1719732284545898, 1525000: -0.4759836196899414}"
      ]
     },
     "execution_count": 5,
     "metadata": {},
     "output_type": "execute_result"
    }
   ],
   "source": [
    "ne300.get_values([1635000, 1525000], verbosity=2)"
   ]
  },
  {
   "cell_type": "code",
   "execution_count": 6,
   "metadata": {},
   "outputs": [
    {
     "data": {
      "text/plain": [
       "{1: datetime.datetime(2024, 5, 16, 12, 55, 43),\n",
       " 1635000: -1.135981559753418,\n",
       " 1525000: -0.043723106384277344,\n",
       " 1450000: 0.9687709808349609,\n",
       " 1635090: 0.2254951000213623,\n",
       " 1525090: -0.2645869255065918,\n",
       " 1450090: -0.18549251556396484,\n",
       " 5001: 25.469995498657227,\n",
       " 5004: 27.920007705688477,\n",
       " 5003: 7.380000114440918,\n",
       " 5002: 956.7999877929688,\n",
       " 4036: 4.203895392974451e-45,\n",
       " 4035: 0.0}"
      ]
     },
     "execution_count": 6,
     "metadata": {},
     "output_type": "execute_result"
    }
   ],
   "source": [
    "# retrieve VI099 command parameters\n",
    "ne300.get_values(parameters=[1, 1635000,1525000,1450000,1635090,1525090,1450090,5001,5004,5003,5002,4036,4035])"
   ]
  },
  {
   "cell_type": "code",
   "execution_count": 7,
   "metadata": {},
   "outputs": [
    {
     "data": {
      "text/plain": [
       "{1: datetime.datetime(2024, 5, 16, 12, 55, 50),\n",
       " 1635000: 0.3980731964111328,\n",
       " 1525000: 1.2457408905029297,\n",
       " 1450000: 1.1552314758300781,\n",
       " 1635090: -1.1231684684753418,\n",
       " 1525090: 0.2552766799926758,\n",
       " 1450090: 0.1261587142944336,\n",
       " 5001: 25.469995498657227,\n",
       " 5004: 27.959985733032227,\n",
       " 5003: 7.390000343322754,\n",
       " 5002: 956.780029296875,\n",
       " 4036: 4.203895392974451e-45,\n",
       " 4035: 0.0,\n",
       " 1001: 0.0,\n",
       " 1002: 0.0,\n",
       " 1003: 1.401298464324817e-45,\n",
       " 1004: 2.802596928649634e-45,\n",
       " 1005: 0.0,\n",
       " 2001: 1.8216880036222622e-44,\n",
       " 2002: 8.407790785948902e-44}"
      ]
     },
     "execution_count": 7,
     "metadata": {},
     "output_type": "execute_result"
    }
   ],
   "source": [
    "ne300.get_current_data(add_params=[1001, 1002, 1003, 1004, 1005, 2001, 2002])"
   ]
  },
  {
   "cell_type": "code",
   "execution_count": 9,
   "metadata": {},
   "outputs": [
    {
     "name": "stdout",
     "output_type": "stream",
     "text": [
      "Not implemented.\n"
     ]
    },
    {
     "data": {
      "text/plain": [
       "''"
      ]
     },
     "execution_count": 9,
     "metadata": {},
     "output_type": "execute_result"
    }
   ],
   "source": [
    "# not implemented\n",
    "ne300.get_new_data()"
   ]
  },
  {
   "cell_type": "code",
   "execution_count": 10,
   "metadata": {},
   "outputs": [
    {
     "name": "stdout",
     "output_type": "stream",
     "text": [
      "Not implemented. Use 'get_logged_data' with specified period instead.\n"
     ]
    },
    {
     "data": {
      "text/plain": [
       "''"
      ]
     },
     "execution_count": 10,
     "metadata": {},
     "output_type": "execute_result"
    }
   ],
   "source": [
    "# not implemented\n",
    "ne300.get_all_data()"
   ]
  },
  {
   "cell_type": "code",
   "execution_count": 11,
   "metadata": {},
   "outputs": [
    {
     "data": {
      "text/plain": [
       "[158, 300, 0, 0]"
      ]
     },
     "execution_count": 11,
     "metadata": {},
     "output_type": "execute_result"
    }
   ],
   "source": [
    "ne300.get_instr_type()"
   ]
  },
  {
   "cell_type": "code",
   "execution_count": 12,
   "metadata": {},
   "outputs": [
    {
     "data": {
      "text/plain": [
       "datetime.datetime(2024, 5, 16, 12, 56, 23)"
      ]
     },
     "execution_count": 12,
     "metadata": {},
     "output_type": "execute_result"
    }
   ],
   "source": [
    "ne300.get_datetime()"
   ]
  },
  {
   "cell_type": "code",
   "execution_count": 13,
   "metadata": {},
   "outputs": [
    {
     "data": {
      "text/plain": [
       "[41,\n",
       " 2635000,\n",
       " 2525000,\n",
       " 2450000,\n",
       " 2635090,\n",
       " 2525090,\n",
       " 2450090,\n",
       " 5001,\n",
       " 5002,\n",
       " 5003,\n",
       " 5004,\n",
       " 5005,\n",
       " 5006,\n",
       " 5010,\n",
       " 26635000,\n",
       " 26525000,\n",
       " 26450000,\n",
       " 13525000,\n",
       " 15635000,\n",
       " 15525000,\n",
       " 15450000,\n",
       " 11635000,\n",
       " 11525000,\n",
       " 11450000,\n",
       " 11635090,\n",
       " 11525090,\n",
       " 11450090,\n",
       " 6007,\n",
       " 6008,\n",
       " 6001,\n",
       " 6002,\n",
       " 6003,\n",
       " 6635000,\n",
       " 6525000,\n",
       " 6450000,\n",
       " 6635090,\n",
       " 6525090,\n",
       " 6450090,\n",
       " 5011,\n",
       " 5012,\n",
       " 5014,\n",
       " 4035]"
      ]
     },
     "execution_count": 13,
     "metadata": {},
     "output_type": "execute_result"
    }
   ],
   "source": [
    "ne300.get_logging_config()"
   ]
  },
  {
   "cell_type": "code",
   "execution_count": null,
   "metadata": {},
   "outputs": [],
   "source": [
    "# cycle through operating states\n",
    "# 0: ambient, 1: zero, 2: span\n",
    "for i in [1, 2, 0]:\n",
    "    print(f\"current: {ne300.get_current_operation()} > set: {i} ...\")\n",
    "    print(f\"done: {ne300.set_current_operation(state=i)} okay\")\n",
    "    time.sleep(3)"
   ]
  },
  {
   "cell_type": "code",
   "execution_count": 26,
   "metadata": {},
   "outputs": [
    {
     "name": "stdout",
     "output_type": "stream",
     "text": [
      "start: 2024-05-16 13:18:14.444228+00:00\n",
      "end  : 2024-05-16 13:21:14.444228+00:00\n",
      "message sent: b'\\x02\\x00\\x07\\x03\\x00\\x08a`\\xd4\\x8ea`\\xd5N\\xcf\\x04'\n",
      "{2635000: 0.06543254852294922, 2525000: 0.8263987898826599, 2450000: 0.8882542252540588, 2635090: -0.5474584102630615, 2525090: 0.05444049835205078, 2450090: 0.21706490218639374, 5001: 26.980009078979492, 5002: 959.3699951171875, 5003: 7.690000057220459, 5004: 29.89999008178711, 5005: 954.8599853515625, 5006: 36.349998474121094, 5010: 0.0, 26635000: 0.006138369906693697, 26525000: 0.006364753935486078, 26450000: 0.010393720120191574, 13525000: 243.33749389648438, 15635000: 1598446.0, 15525000: 1973720.0, 15450000: 1453886.0, 11635000: 14741.8603515625, 11525000: 19468.16015625, 11450000: 19132.25, 11635090: 11474.2099609375, 11525090: 14032.099609375, 11450090: 13102.0, 6007: 23.994140625, 6008: 1693.0880126953125, 6001: 18.325199127197266, 6002: 4.91455078125, 6003: 19.980609893798828, 6635000: 0.009609404020011425, 6525000: 0.010222709737718105, 6450000: 0.013122550211846828, 6635090: 0.007443651091307402, 6525090: 0.007332109846174717, 6450090: 0.008933201432228088, 5011: 68.87616729736328, 5012: 0.0, 5014: 100.0, 4035: 0.0, 0: b'\\x00\\x00\\x00', 'dtm': '2024-05-16 13:19:00', 'logging_interval': 60}\n",
      "{2635000: 0.07532882690429688, 2525000: 0.7811431884765625, 2450000: 0.8759860992431641, 2635090: -0.5530951023101807, 2525090: 0.04211616888642311, 2450090: 0.17502689361572266, 5001: 27.02998924255371, 5002: 959.4500122070312, 5003: 7.699999809265137, 5004: 29.90999984741211, 5005: 954.9099731445312, 5006: 36.43000030517578, 5010: 0.0, 26635000: 0.0057993000373244286, 26525000: 0.005966261029243469, 26450000: 0.009432069025933743, 13525000: 216.6699981689453, 15635000: 1594898.0, 15525000: 1973488.0, 15450000: 1455201.0, 11635000: 15608.7001953125, 11525000: 19302.7109375, 11450000: 19351.1796875, 11635090: 11230.490234375, 11525090: 13766.58984375, 11450090: 12916.669921875, 6007: 24.14794921875, 6008: 1605.7540283203125, 6001: 18.361820220947266, 6002: 5.112305164337158, 6003: 20.4089298248291, 6635000: 0.010190100409090519, 6525000: 0.01015068031847477, 6450000: 0.013281100429594517, 6635090: 0.00731666712090373, 6525090: 0.007206481881439686, 6450090: 0.008814992383122444, 5011: 70.0, 5012: 0.0, 5014: 100.0, 4035: 0.0, 0: b'\\x00\\x00\\x00', 'dtm': '2024-05-16 13:20:00', 'logging_interval': 60}\n",
      "{2635000: 0.08623552322387695, 2525000: 0.8145170211791992, 2450000: 0.8935356140136719, 2635090: -0.5584053993225098, 2525090: 0.05942821875214577, 2450090: 0.17975810170173645, 5001: 27.08000946044922, 5002: 959.5399780273438, 5003: 7.710000038146973, 5004: 29.950010299682617, 5005: 954.8599853515625, 5006: 36.279998779296875, 5010: 0.0, 26635000: 0.005369732156395912, 26525000: 0.005463068839162588, 26450000: 0.008486847393214703, 13525000: 300.00628662109375, 15635000: 1596937.0, 15525000: 1970926.0, 15450000: 1453966.0, 11635000: 14690.08984375, 11525000: 19463.150390625, 11450000: 18931.720703125, 11635090: 11357.3603515625, 11525090: 13753.23046875, 11450090: 13038.5595703125, 6007: 24.14794921875, 6008: 1502.5419921875, 6001: 18.251949310302734, 6002: 5.22216796875, 6003: 20.75157928466797, 6635000: 0.009548858739435673, 6525000: 0.010206430219113827, 6450000: 0.012989790178835392, 6635090: 0.007381125818938017, 6525090: 0.007200425025075674, 6450090: 0.00889580324292183, 5011: 70.0, 5012: 0.0, 5014: 100.0, 4035: 0.0, 0: b'\\x00\\x00\\x00', 'dtm': '2024-05-16 13:21:00', 'logging_interval': 60}\n"
     ]
    }
   ],
   "source": [
    "from datetime import datetime, timezone, timedelta\n",
    "end = datetime.now(timezone.utc)\n",
    "start = end - timedelta(minutes=3)\n",
    "print(f\"start: {start}\\nend  : {end}\")\n",
    "data = ne300.get_logged_data(start=start, end=end, verbosity=1)\n",
    "# for i in range(len(data)):\n",
    "    # print(data[i])"
   ]
  },
  {
   "cell_type": "code",
   "execution_count": 27,
   "metadata": {},
   "outputs": [
    {
     "data": {
      "text/plain": [
       "b\"\\x02\\x00\\x07\\x03\\x02\\xe0\\x01\\x00\\x00\\x00\\x00\\x00\\x00\\x00\\x00\\x00\\x00\\x00\\x00\\x00\\x00*\\x00(4\\xf8\\x00&\\x87H\\x00%bP\\x00(5R\\x00&\\x87\\xa2\\x00%b\\xaa\\x00\\x00\\x13\\x89\\x00\\x00\\x13\\x8a\\x00\\x00\\x13\\x8b\\x00\\x00\\x13\\x8c\\x00\\x00\\x13\\x8d\\x00\\x00\\x13\\x8e\\x00\\x00\\x13\\x92\\x01\\x96j\\xf8\\x01\\x94\\xbdH\\x01\\x93\\x98P\\x00\\xce`\\x08\\x00\\xee\\x928\\x00\\xec\\xe4\\x88\\x00\\xeb\\xbf\\x90\\x00\\xb1\\x898\\x00\\xaf\\xdb\\x88\\x00\\xae\\xb6\\x90\\x00\\xb1\\x89\\x92\\x00\\xaf\\xdb\\xe2\\x00\\xae\\xb6\\xea\\x00\\x00\\x17w\\x00\\x00\\x17x\\x00\\x00\\x17q\\x00\\x00\\x17r\\x00\\x00\\x17s\\x00e=\\xf8\\x00c\\x90H\\x00bkP\\x00e>R\\x00c\\x90\\xa2\\x00bk\\xaa\\x00\\x00\\x13\\x93\\x00\\x00\\x13\\x94\\x00\\x00\\x13\\x96\\x00\\x00\\x0f\\xc3\\x00\\x00\\x00\\x00\\x00\\x00\\x00\\x00a`\\xd4\\xc0\\x00\\x00\\x00<\\x00\\x00\\x00*=\\x86\\x01\\x80?S\\x8e\\xdf?cd\\xa1\\xbf\\x0c&<=^\\xfd\\x00>^FCA\\xd7\\xd7\\x0fDo\\xd7\\xae@\\xf6\\x14{A\\xef3.Dn\\xb7\\nB\\x11ff\\x00\\x00\\x00\\x00;\\xc9$a;\\xd0\\x8fm<*JlCsVfI\\xc3\\x1fpI\\xf0\\xee\\xc0I\\xb1y\\xf0FfWqF\\x98\\x18RF\\x95x\\x80F3H\\xd7F[@fFL\\xb8\\x00A\\xbf\\xf4\\x00D\\xd3\\xa2\\xd1A\\x92\\x9a\\x02@\\x9dD\\x00A\\x9f\\xd8J<\\x1dp\\xc3<'}'<V\\xff\\xf7;\\xf3\\xe9\\xdf;\\xf0B2<\\x12\\\\\\x90B\\x89\\xc0\\x99\\x00\\x00\\x00\\x00B\\xc8\\x00\\x00\\x00\\x00\\x00\\x00\\x00\\x00\\x00\\x00\\x00\\x00\\x00\\x00a`\\xd5\\x00\\x00\\x00\\x00<\\x00\\x00\\x00*=\\x9aF\\x00?G\\xf9\\x00?`@\\xa0\\xbf\\r\\x97\\xa4=,\\x82\\x01>3:@A\\xd8=kDo\\xdc\\xcd@\\xf6ffA\\xefG\\xaeDn\\xba=B\\x11\\xb8R\\x00\\x00\\x00\\x00;\\xbe\\x08\\x0e;\\xc3\\x80\\xa0<\\x1a\\x88\\xf7CX\\xab\\x85I\\xc2\\xb0\\x90I\\xf0\\xe7\\x80I\\xb1\\xa3\\x08Fs\\xe2\\xcdF\\x96\\xcdlF\\x97.\\\\F/y\\xf6FW\\x1a\\\\FI\\xd2\\xaeA\\xc1/\\x00D\\xc8\\xb8!A\\x92\\xe5\\x02@\\xa3\\x98\\x01A\\xa3E}<&\\xf4a<&O\\n<Y\\x98\\xf9;\\xef\\xc0\\xa7;\\xec$Z<\\x10l\\xc2B\\x8c\\x00\\x00\\x00\\x00\\x00\\x00B\\xc8\\x00\\x00\\x00\\x00\\x00\\x00\\x00\\x00\\x00\\x00\\x00\\x00\\x00\\x00a`\\xd5@\\x00\\x00\\x00<\\x00\\x00\\x00*=\\xb0\\x9c@?P\\x840?d\\xbe\\xc0\\xbf\\x0e\\xf3\\xa8=sk\\x01>8\\x12\\x82A\\xd8\\xa3\\xdcDo\\xe2\\x8f@\\xf6\\xb8RA\\xef\\x99\\x9fDn\\xb7\\nB\\x11\\x1e\\xb8\\x00\\x00\\x00\\x00;\\xaf\\xf4\\x94;\\xb3\\x03\\x8b<\\x0b\\x0ckC\\x96\\x00\\xceI\\xc2\\xf0HI\\xf0\\x97pI\\xb1|pFe\\x88\\\\F\\x98\\x0eMF\\x93\\xe7qF1uqFV\\xe4\\xecFK\\xba=A\\xc1/\\x00D\\xbb\\xd1XA\\x92\\x03\\xfe@\\xa7\\x1c\\x00A\\xa6\\x03<<\\x1cr\\xd1<'8\\xdf<T\\xd3!;\\xf1\\xdd_;\\xeb\\xf1\\x8b<\\x11\\xbf\\xb4B\\x8c\\x00\\x00\\x00\\x00\\x00\\x00B\\xc8\\x00\\x00\\x00\\x00\\x00\\x00\\x00\\x00\\x00\\x00R\\x04\""
      ]
     },
     "execution_count": 27,
     "metadata": {},
     "output_type": "execute_result"
    }
   ],
   "source": [
    "response = ne300.tcpip_comm(message=bytes(b'\\x02\\x00\\x07\\x03\\x00\\x08a`\\xd4\\x8ea`\\xd5N\\xcf\\x04'))\n",
    "response"
   ]
  },
  {
   "cell_type": "code",
   "execution_count": 28,
   "metadata": {},
   "outputs": [
    {
     "data": {
      "text/plain": [
       "b'\\x02\\x00\\x07\\x03\\x00\\x00\\x06\\x04'"
      ]
     },
     "execution_count": 28,
     "metadata": {},
     "output_type": "execute_result"
    }
   ],
   "source": [
    "ne300.tcpip_comm(message=bytes([2,0,7,3,0,4,0,0,0,0,2,4]))"
   ]
  },
  {
   "cell_type": "code",
   "execution_count": 11,
   "metadata": {},
   "outputs": [
    {
     "name": "stdout",
     "output_type": "stream",
     "text": [
      "message sent: b'\\x02\\x00\\x07\\x03\\x00\\x04\\x00\\x00\\x00\\x00\\x02\\x04'\n",
      "response (bytes): b'\\x02\\x00\\x00\\x03\\x00\\x02\\x00\\x02\\x01\\x04'\n"
     ]
    },
    {
     "ename": "ValueError",
     "evalue": "Number of parameters does not match number of items retrieved from response.",
     "output_type": "error",
     "traceback": [
      "\u001b[1;31m---------------------------------------------------------------------------\u001b[0m",
      "\u001b[1;31mValueError\u001b[0m                                Traceback (most recent call last)",
      "Cell \u001b[1;32mIn[11], line 6\u001b[0m\n\u001b[0;32m      4\u001b[0m response\u001b[38;5;241m=\u001b[39mne300\u001b[38;5;241m.\u001b[39mtcpip_comm(message, verbosity\u001b[38;5;241m=\u001b[39m\u001b[38;5;241m2\u001b[39m)\n\u001b[0;32m      5\u001b[0m \u001b[38;5;28;01mif\u001b[39;00m response[\u001b[38;5;241m5\u001b[39m]\u001b[38;5;241m>\u001b[39m\u001b[38;5;241m0\u001b[39m:\n\u001b[1;32m----> 6\u001b[0m     \u001b[43mne300\u001b[49m\u001b[38;5;241;43m.\u001b[39;49m\u001b[43m_acoem_response2values\u001b[49m\u001b[43m(\u001b[49m\u001b[43mresponse\u001b[49m\u001b[38;5;241;43m=\u001b[39;49m\u001b[43mresponse\u001b[49m\u001b[43m,\u001b[49m\u001b[43m \u001b[49m\u001b[43mparameters\u001b[49m\u001b[38;5;241;43m=\u001b[39;49m\u001b[43mparameters\u001b[49m\u001b[43m)\u001b[49m\n\u001b[0;32m      7\u001b[0m \u001b[38;5;66;03m# ne300._acoem_decode_logged_data(response=response, verbosity=2)\u001b[39;00m\n\u001b[0;32m      8\u001b[0m \u001b[38;5;66;03m# data.append(self._acoem_decode_logged_data(response=response, verbosity=verbosity))\u001b[39;00m\n",
      "File \u001b[1;32mc:\\Users\\jkl\\Documents\\git\\mkndaq\\mkndaq\\inst\\neph.py:292\u001b[0m, in \u001b[0;36mNEPH._acoem_response2values\u001b[1;34m(self, parameters, response, verbosity)\u001b[0m\n\u001b[0;32m    290\u001b[0m     data_bytes \u001b[38;5;241m=\u001b[39m \u001b[38;5;28mdict\u001b[39m(\u001b[38;5;28mzip\u001b[39m(parameters, items_bytes))\n\u001b[0;32m    291\u001b[0m \u001b[38;5;28;01melse\u001b[39;00m:\n\u001b[1;32m--> 292\u001b[0m     \u001b[38;5;28;01mraise\u001b[39;00m \u001b[38;5;167;01mValueError\u001b[39;00m(\u001b[38;5;124m\"\u001b[39m\u001b[38;5;124mNumber of parameters does not match number of items retrieved from response.\u001b[39m\u001b[38;5;124m\"\u001b[39m)    \n\u001b[0;32m    294\u001b[0m \u001b[38;5;66;03m# decode values\u001b[39;00m\n\u001b[0;32m    295\u001b[0m \u001b[38;5;28;01mfor\u001b[39;00m parameter, item \u001b[38;5;129;01min\u001b[39;00m data_bytes\u001b[38;5;241m.\u001b[39mitems():\n",
      "\u001b[1;31mValueError\u001b[0m: Number of parameters does not match number of items retrieved from response."
     ]
    }
   ],
   "source": [
    "# get next record\n",
    "parameters = ne300.get_logging_config()[1:]\n",
    "message = ne300._acoem_construct_message(command=7, payload=bytes([0,0,0,0]))\n",
    "response=ne300.tcpip_comm(message, verbosity=2)\n",
    "if response[5]>0:\n",
    "    ne300._acoem_response2values(response=response, parameters=parameters)\n",
    "# ne300._acoem_decode_logged_data(response=response, verbosity=2)\n",
    "# data.append(self._acoem_decode_logged_data(response=response, verbosity=verbosity))\n"
   ]
  },
  {
   "cell_type": "code",
   "execution_count": 13,
   "metadata": {},
   "outputs": [
    {
     "data": {
      "text/plain": [
       "b'\\x02\\x00\\x00\\x03\\x00\\x02\\x00\\x02\\x01\\x04'"
      ]
     },
     "execution_count": 13,
     "metadata": {},
     "output_type": "execute_result"
    }
   ],
   "source": [
    "ne300.tcpip_comm(message=bytes([2,0,7,3,0,4,0,0,0,0,2,4]))"
   ]
  }
 ],
 "metadata": {
  "kernelspec": {
   "display_name": "Python 3",
   "language": "python",
   "name": "python3"
  },
  "language_info": {
   "codemirror_mode": {
    "name": "ipython",
    "version": 3
   },
   "file_extension": ".py",
   "mimetype": "text/x-python",
   "name": "python",
   "nbconvert_exporter": "python",
   "pygments_lexer": "ipython3",
   "version": "3.11.1"
  }
 },
 "nbformat": 4,
 "nbformat_minor": 2
}
