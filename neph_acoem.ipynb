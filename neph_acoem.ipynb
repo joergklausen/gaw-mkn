{
 "cells": [
  {
   "cell_type": "code",
   "execution_count": 1,
   "metadata": {},
   "outputs": [
    {
     "name": "stdout",
     "output_type": "stream",
     "text": [
      "# Initialize NEPH (name: ne300  S/N: 23-0690)\n",
      "timed out\n"
     ]
    },
    {
     "ename": "KeyboardInterrupt",
     "evalue": "",
     "output_type": "error",
     "traceback": [
      "\u001b[1;31m---------------------------------------------------------------------------\u001b[0m",
      "\u001b[1;31mtimeout\u001b[0m                                   Traceback (most recent call last)",
      "File \u001b[1;32mc:\\Users\\mkn\\Documents\\git\\mkndaq\\mkndaq\\inst\\neph.py:560\u001b[0m, in \u001b[0;36mNEPH.tcpip_comm\u001b[1;34m(self, message, expect_response, verbosity)\u001b[0m\n\u001b[0;32m    559\u001b[0m s\u001b[38;5;241m.\u001b[39msettimeout(\u001b[38;5;28mself\u001b[39m\u001b[38;5;241m.\u001b[39m__socktout)\n\u001b[1;32m--> 560\u001b[0m \u001b[43ms\u001b[49m\u001b[38;5;241;43m.\u001b[39;49m\u001b[43mconnect\u001b[49m\u001b[43m(\u001b[49m\u001b[38;5;28;43mself\u001b[39;49m\u001b[38;5;241;43m.\u001b[39;49m\u001b[43m__sockaddr\u001b[49m\u001b[43m)\u001b[49m\n\u001b[0;32m    562\u001b[0m \u001b[38;5;66;03m# clear buffer (at least the first 1024 bytes, should be sufficient)\u001b[39;00m\n\u001b[0;32m    563\u001b[0m \u001b[38;5;66;03m# tmp = s.recv(128)\u001b[39;00m\n",
      "\u001b[1;31mtimeout\u001b[0m: timed out",
      "\nDuring handling of the above exception, another exception occurred:\n",
      "\u001b[1;31mKeyboardInterrupt\u001b[0m                         Traceback (most recent call last)",
      "Cell \u001b[1;32mIn[1], line 42\u001b[0m\n\u001b[0;32m      5\u001b[0m \u001b[38;5;28;01mimport\u001b[39;00m \u001b[38;5;21;01mthreading\u001b[39;00m\n\u001b[0;32m      7\u001b[0m cfg \u001b[38;5;241m=\u001b[39m {\u001b[38;5;124m'\u001b[39m\u001b[38;5;124mne300\u001b[39m\u001b[38;5;124m'\u001b[39m: {\n\u001b[0;32m      8\u001b[0m                 \u001b[38;5;124m'\u001b[39m\u001b[38;5;124mtype\u001b[39m\u001b[38;5;124m'\u001b[39m: \u001b[38;5;124m'\u001b[39m\u001b[38;5;124mNE300\u001b[39m\u001b[38;5;124m'\u001b[39m,\n\u001b[0;32m      9\u001b[0m                 \u001b[38;5;124m'\u001b[39m\u001b[38;5;124mserial_number\u001b[39m\u001b[38;5;124m'\u001b[39m: \u001b[38;5;124m'\u001b[39m\u001b[38;5;124m23-0690\u001b[39m\u001b[38;5;124m'\u001b[39m,\n\u001b[1;32m   (...)\u001b[0m\n\u001b[0;32m     40\u001b[0m             },\n\u001b[0;32m     41\u001b[0m }\n\u001b[1;32m---> 42\u001b[0m ne300 \u001b[38;5;241m=\u001b[39m \u001b[43mNEPH\u001b[49m\u001b[43m(\u001b[49m\u001b[38;5;124;43m'\u001b[39;49m\u001b[38;5;124;43mne300\u001b[39;49m\u001b[38;5;124;43m'\u001b[39;49m\u001b[43m,\u001b[49m\u001b[43m \u001b[49m\u001b[43mcfg\u001b[49m\u001b[43m,\u001b[49m\u001b[43m \u001b[49m\u001b[43mverbosity\u001b[49m\u001b[38;5;241;43m=\u001b[39;49m\u001b[38;5;241;43m0\u001b[39;49m\u001b[43m)\u001b[49m\n\u001b[0;32m     43\u001b[0m \u001b[38;5;66;03m# # Initialize NEPH (name: ne300  S/N: 23-0690)\u001b[39;00m\n\u001b[0;32m     44\u001b[0m \u001b[38;5;66;03m#   Instrument identified itself as '{'Model': 158, 'Variant': 300, 'Sub-Type': 0, 'Range': 0, 'Build': 158, 'Branch': 300}'.\u001b[39;00m\n",
      "File \u001b[1;32mc:\\Users\\mkn\\Documents\\git\\mkndaq\\mkndaq\\inst\\neph.py:148\u001b[0m, in \u001b[0;36mNEPH.__init__\u001b[1;34m(self, name, config, verbosity)\u001b[0m\n\u001b[0;32m    145\u001b[0m \u001b[38;5;28;01mif\u001b[39;00m \u001b[38;5;28mself\u001b[39m\u001b[38;5;241m.\u001b[39m__verbosity\u001b[38;5;241m>\u001b[39m\u001b[38;5;241m0\u001b[39m:\n\u001b[0;32m    146\u001b[0m     \u001b[38;5;28mprint\u001b[39m(\u001b[38;5;124mf\u001b[39m\u001b[38;5;124m\"\u001b[39m\u001b[38;5;124m# Initialize NEPH (name: \u001b[39m\u001b[38;5;132;01m{\u001b[39;00m\u001b[38;5;28mself\u001b[39m\u001b[38;5;241m.\u001b[39m__name\u001b[38;5;132;01m}\u001b[39;00m\u001b[38;5;124m  S/N: \u001b[39m\u001b[38;5;132;01m{\u001b[39;00m\u001b[38;5;28mself\u001b[39m\u001b[38;5;241m.\u001b[39m__serial_number\u001b[38;5;132;01m}\u001b[39;00m\u001b[38;5;124m)\u001b[39m\u001b[38;5;124m\"\u001b[39m)\n\u001b[1;32m--> 148\u001b[0m     \u001b[38;5;28mid\u001b[39m \u001b[38;5;241m=\u001b[39m \u001b[38;5;28;43mself\u001b[39;49m\u001b[38;5;241;43m.\u001b[39;49m\u001b[43mget_id\u001b[49m\u001b[43m(\u001b[49m\u001b[43mverbosity\u001b[49m\u001b[38;5;241;43m=\u001b[39;49m\u001b[43mverbosity\u001b[49m\u001b[43m)\u001b[49m\n\u001b[0;32m    149\u001b[0m     \u001b[38;5;28;01mif\u001b[39;00m \u001b[38;5;28mid\u001b[39m\u001b[38;5;241m==\u001b[39m{}:\n\u001b[0;32m    150\u001b[0m         warnings\u001b[38;5;241m.\u001b[39mwarn(\u001b[38;5;124mf\u001b[39m\u001b[38;5;124m\"\u001b[39m\u001b[38;5;124mCould not communicate with instrument. Protocol set to \u001b[39m\u001b[38;5;124m'\u001b[39m\u001b[38;5;132;01m{\u001b[39;00m\u001b[38;5;28mself\u001b[39m\u001b[38;5;241m.\u001b[39m__protocol\u001b[38;5;132;01m}\u001b[39;00m\u001b[38;5;124m'\u001b[39m\u001b[38;5;124m. Please verify instrument settings.\u001b[39m\u001b[38;5;124m\"\u001b[39m)\n",
      "File \u001b[1;32mc:\\Users\\mkn\\Documents\\git\\mkndaq\\mkndaq\\inst\\neph.py:970\u001b[0m, in \u001b[0;36mNEPH.get_id\u001b[1;34m(self, verbosity)\u001b[0m\n\u001b[0;32m    968\u001b[0m \u001b[38;5;28;01mif\u001b[39;00m \u001b[38;5;28mself\u001b[39m\u001b[38;5;241m.\u001b[39m__protocol\u001b[38;5;241m==\u001b[39m\u001b[38;5;124m\"\u001b[39m\u001b[38;5;124macoem\u001b[39m\u001b[38;5;124m\"\u001b[39m:\n\u001b[0;32m    969\u001b[0m     instr_type \u001b[38;5;241m=\u001b[39m \u001b[38;5;28mself\u001b[39m\u001b[38;5;241m.\u001b[39mget_instr_type(verbosity\u001b[38;5;241m=\u001b[39mverbosity)\n\u001b[1;32m--> 970\u001b[0m     version \u001b[38;5;241m=\u001b[39m \u001b[38;5;28;43mself\u001b[39;49m\u001b[38;5;241;43m.\u001b[39;49m\u001b[43mget_version\u001b[49m\u001b[43m(\u001b[49m\u001b[43mverbosity\u001b[49m\u001b[38;5;241;43m=\u001b[39;49m\u001b[43mverbosity\u001b[49m\u001b[43m)\u001b[49m\n\u001b[0;32m    971\u001b[0m     map_instr_type \u001b[38;5;241m=\u001b[39m {\n\u001b[0;32m    972\u001b[0m             \u001b[38;5;124m'\u001b[39m\u001b[38;5;124mModel\u001b[39m\u001b[38;5;124m'\u001b[39m: {\u001b[38;5;241m158\u001b[39m: \u001b[38;5;124m'\u001b[39m\u001b[38;5;124mACOEM Aurora\u001b[39m\u001b[38;5;124m'\u001b[39m,\n\u001b[0;32m    973\u001b[0m                       },\n\u001b[0;32m    974\u001b[0m             \u001b[38;5;124m'\u001b[39m\u001b[38;5;124mVariant\u001b[39m\u001b[38;5;124m'\u001b[39m: {\u001b[38;5;241m300\u001b[39m: \u001b[38;5;124m'\u001b[39m\u001b[38;5;124mNE-300\u001b[39m\u001b[38;5;124m'\u001b[39m,\n\u001b[0;32m    975\u001b[0m                         },\n\u001b[0;32m    976\u001b[0m             }\n\u001b[0;32m    977\u001b[0m     \u001b[38;5;66;03m# resp = dict(zip(['Model', 'Variant', 'Sub-Type', 'Range', 'Build', 'Branch'], instr_type + version))\u001b[39;00m\n",
      "File \u001b[1;32mc:\\Users\\mkn\\Documents\\git\\mkndaq\\mkndaq\\inst\\neph.py:647\u001b[0m, in \u001b[0;36mNEPH.get_version\u001b[1;34m(self, verbosity)\u001b[0m\n\u001b[0;32m    645\u001b[0m     message \u001b[38;5;241m=\u001b[39m \u001b[38;5;28mself\u001b[39m\u001b[38;5;241m.\u001b[39m_acoem_construct_message(\u001b[38;5;241m1\u001b[39m)\n\u001b[0;32m    646\u001b[0m     \u001b[38;5;28mself\u001b[39m\u001b[38;5;241m.\u001b[39mtcpip_comm_wait_for_line()\n\u001b[1;32m--> 647\u001b[0m     response \u001b[38;5;241m=\u001b[39m \u001b[38;5;28;43mself\u001b[39;49m\u001b[38;5;241;43m.\u001b[39;49m\u001b[43mtcpip_comm\u001b[49m\u001b[43m(\u001b[49m\u001b[43mmessage\u001b[49m\u001b[43m,\u001b[49m\u001b[43m \u001b[49m\u001b[43mverbosity\u001b[49m\u001b[38;5;241;43m=\u001b[39;49m\u001b[43mverbosity\u001b[49m\u001b[43m)\u001b[49m        \n\u001b[0;32m    648\u001b[0m     \u001b[38;5;28;01mreturn\u001b[39;00m \u001b[38;5;28mself\u001b[39m\u001b[38;5;241m.\u001b[39m_acoem_bytes2int(response\u001b[38;5;241m=\u001b[39mresponse, verbosity\u001b[38;5;241m=\u001b[39mverbosity)\n\u001b[0;32m    649\u001b[0m \u001b[38;5;28;01melse\u001b[39;00m:\n",
      "File \u001b[1;32mc:\\Users\\mkn\\Documents\\git\\mkndaq\\mkndaq\\inst\\neph.py:560\u001b[0m, in \u001b[0;36mNEPH.tcpip_comm\u001b[1;34m(self, message, expect_response, verbosity)\u001b[0m\n\u001b[0;32m    557\u001b[0m \u001b[38;5;28;01mwith\u001b[39;00m socket\u001b[38;5;241m.\u001b[39msocket(socket\u001b[38;5;241m.\u001b[39mAF_INET, socket\u001b[38;5;241m.\u001b[39mSOCK_STREAM, ) \u001b[38;5;28;01mas\u001b[39;00m s:\n\u001b[0;32m    558\u001b[0m     \u001b[38;5;66;03m# connect to the server\u001b[39;00m\n\u001b[0;32m    559\u001b[0m     s\u001b[38;5;241m.\u001b[39msettimeout(\u001b[38;5;28mself\u001b[39m\u001b[38;5;241m.\u001b[39m__socktout)\n\u001b[1;32m--> 560\u001b[0m     \u001b[43ms\u001b[49m\u001b[38;5;241;43m.\u001b[39;49m\u001b[43mconnect\u001b[49m\u001b[43m(\u001b[49m\u001b[38;5;28;43mself\u001b[39;49m\u001b[38;5;241;43m.\u001b[39;49m\u001b[43m__sockaddr\u001b[49m\u001b[43m)\u001b[49m\n\u001b[0;32m    562\u001b[0m     \u001b[38;5;66;03m# clear buffer (at least the first 1024 bytes, should be sufficient)\u001b[39;00m\n\u001b[0;32m    563\u001b[0m     \u001b[38;5;66;03m# tmp = s.recv(128)\u001b[39;00m\n\u001b[0;32m    564\u001b[0m     start \u001b[38;5;241m=\u001b[39m time\u001b[38;5;241m.\u001b[39mperf_counter()\n",
      "\u001b[1;31mKeyboardInterrupt\u001b[0m: "
     ]
    }
   ],
   "source": [
    "import time\n",
    "import datetime\n",
    "from mkndaq.inst.neph import NEPH\n",
    "import schedule\n",
    "import threading\n",
    "\n",
    "cfg = {'ne300': {\n",
    "                'type': 'NE300',\n",
    "                'serial_number': '23-0690',\n",
    "                'serial_id': 0,\n",
    "                'protocol': 'acoem',\n",
    "                'socket': {\n",
    "                    'host': '192.168.3.150',\n",
    "                    'port': 32783,\n",
    "                    'timeout': 10,\n",
    "                },\n",
    "                'data_log': {\n",
    "                    'parameters': [1000000, 2000000, 3000000, 6000000, 7000000, 8000000, \n",
    "                                   11000000, 12000000, 13000000, 14000000, 15000000, 16000000, \n",
    "                                   17000000, 18000000, 19000000, 20000000, 21000000, 26000000, \n",
    "                                   5001, 5002, 5003, 5004, 5005, 5006, \n",
    "                                   5010, 6007, 6008, 6001, 6002, 6003, \n",
    "                                   4035, 4036],\n",
    "                    'wavelengths': [0,0,0,0,0,0,0,0,0,0,0,0,0,0,0,0,0,0,0,0,0,0,0,0,0,0,0,0,0,0,0,0,],\n",
    "                    'angles': [0,0,0,0,0,0,0,0,0,0,0,0,0,0,0,0,0,0,0,0,0,0,0,0,0,0,0,0,0,0,0,0,],\n",
    "                    'interval': 60, \n",
    "                },\n",
    "                'get_data_interval': 2, # minutes. logger retrieval interval\n",
    "                'zero_span_check_interval': 1500,\n",
    "                'zero_check_duration': 30,\n",
    "                'span_check_duration': 0,\n",
    "                'staging_zip': True,  \n",
    "                'verbosity': 2,  # 0: silent, 1: medium, 2: full          \n",
    "            },\n",
    "            'reporting_interval': 10,\n",
    "            'logs': 'mkndaq/logs',\n",
    "            'data': 'mkndaq/data',\n",
    "            'staging': {\n",
    "                'path': 'mkndaq/staging',\n",
    "            },\n",
    "}\n",
    "ne300 = NEPH('ne300', cfg, verbosity=0)\n",
    "# # Initialize NEPH (name: ne300  S/N: 23-0690)\n",
    "#   Instrument identified itself as '{'Model': 158, 'Variant': 300, 'Sub-Type': 0, 'Range': 0, 'Build': 158, 'Branch': 300}'."
   ]
  },
  {
   "cell_type": "code",
   "execution_count": null,
   "metadata": {},
   "outputs": [],
   "source": [
    "resp = ne300.get_values([5006])\n",
    "time.sleep(.5)\n",
    "print(resp)"
   ]
  },
  {
   "cell_type": "code",
   "execution_count": null,
   "metadata": {},
   "outputs": [],
   "source": [
    "ne300.set_value(2030, 5006, verify=False, verbosity=2)\n",
    "# ne300.set_value(4035, 1)"
   ]
  },
  {
   "cell_type": "code",
   "execution_count": null,
   "metadata": {},
   "outputs": [],
   "source": [
    "ne300.get_data_log_config()"
   ]
  },
  {
   "cell_type": "code",
   "execution_count": null,
   "metadata": {},
   "outputs": [],
   "source": [
    "import logging\n",
    "\n",
    "def run_threaded(job_func):\n",
    "    \"\"\"Set up threading and start job.\n",
    "\n",
    "    Args:\n",
    "        job_func ([type]): [description]\n",
    "    \"\"\"\n",
    "    job_thread = threading.Thread(target=job_func)\n",
    "    job_thread.start()\n",
    "\n",
    "# limit logging from schedule\n",
    "logging.getLogger('schedule').setLevel(logging.CRITICAL)\n",
    "\n",
    "# align start with a 10' timestamp\n",
    "while int(time.time()) % 10 > 0:\n",
    "    time.sleep(0.1)\n",
    "\n",
    "fetch = 20\n",
    "schedule.every(fetch).seconds.do(ne300.print_ssp_bssp)\n",
    "schedule.every(cfg['ne300']['get_data_interval']).minutes.at(':10').do(run_threaded, ne300.get_new_data)\n",
    "schedule.every(cfg['ne300']['zero_span_check_interval']).minutes.at(':00').do(run_threaded, ne300.do_zero_span_check)\n",
    "\n",
    "while True:\n",
    "    schedule.run_pending()\n",
    "    time.sleep(1)"
   ]
  },
  {
   "cell_type": "code",
   "execution_count": null,
   "metadata": {},
   "outputs": [],
   "source": [
    "res = ne300.get_id()\n",
    "print(res)"
   ]
  },
  {
   "cell_type": "code",
   "execution_count": null,
   "metadata": {},
   "outputs": [],
   "source": [
    "# mimick VI099 response\n",
    "ne300.get_current_data(strict=True, verbosity=0)"
   ]
  },
  {
   "cell_type": "code",
   "execution_count": null,
   "metadata": {},
   "outputs": [],
   "source": [
    "ne300.get_current_data(verbosity=0)"
   ]
  },
  {
   "cell_type": "code",
   "execution_count": null,
   "metadata": {},
   "outputs": [],
   "source": [
    "ne300.get_values([1635000, 1525000], verbosity=2)"
   ]
  },
  {
   "cell_type": "code",
   "execution_count": null,
   "metadata": {},
   "outputs": [],
   "source": [
    "# retrieve VI099 command parameters\n",
    "ne300.get_values(parameters=[1, 1635000,1525000,1450000,1635090,1525090,1450090,5001,5004,5003,5002,4036,4035])"
   ]
  },
  {
   "cell_type": "code",
   "execution_count": null,
   "metadata": {},
   "outputs": [],
   "source": [
    "ne300.get_current_data(add_params=[1001, 1002, 1003, 1004, 1005, 2001, 2002])"
   ]
  },
  {
   "cell_type": "code",
   "execution_count": null,
   "metadata": {},
   "outputs": [],
   "source": [
    "# not implemented\n",
    "ne300.get_new_data()"
   ]
  },
  {
   "cell_type": "code",
   "execution_count": null,
   "metadata": {},
   "outputs": [],
   "source": [
    "# not implemented\n",
    "ne300.get_all_data()"
   ]
  },
  {
   "cell_type": "code",
   "execution_count": null,
   "metadata": {},
   "outputs": [],
   "source": [
    "ne300.get_instr_type()"
   ]
  },
  {
   "cell_type": "code",
   "execution_count": null,
   "metadata": {},
   "outputs": [],
   "source": [
    "ne300.get_datetime()"
   ]
  },
  {
   "cell_type": "code",
   "execution_count": null,
   "metadata": {},
   "outputs": [],
   "source": [
    "ne300.get_data_log_config()"
   ]
  },
  {
   "cell_type": "code",
   "execution_count": null,
   "metadata": {},
   "outputs": [],
   "source": [
    "# cycle through operating states\n",
    "# 0: ambient, 1: zero, 2: span\n",
    "for i in [1, 2, 0]:\n",
    "    print(f\"current: {ne300.get_current_operation()} > set: {i} ...\")\n",
    "    print(f\"done: {ne300.set_current_operation(state=i)} okay\")\n",
    "    time.sleep(3)"
   ]
  },
  {
   "cell_type": "code",
   "execution_count": null,
   "metadata": {},
   "outputs": [],
   "source": [
    "from datetime import datetime, timezone, timedelta\n",
    "end = datetime.now(timezone.utc)\n",
    "start = end - timedelta(minutes=10)\n",
    "print(f\"start: {start}\\nend  : {end}\")\n",
    "data = ne300.get_logged_data(start=start, end=end, verbosity=1)\n",
    "# for i in range(len(data)):\n",
    "    # print(data[i])"
   ]
  },
  {
   "cell_type": "code",
   "execution_count": null,
   "metadata": {},
   "outputs": [],
   "source": [
    "# repeat packet\n",
    "message = ne300._acoem_construct_message(command=7, payload=bytes([0,0,0,1]))\n",
    "response = ne300.tcpip_comm(message=message)\n",
    "print(response)\n",
    "display(ne300._acoem_decode_logged_data(response=response))"
   ]
  },
  {
   "cell_type": "code",
   "execution_count": null,
   "metadata": {},
   "outputs": [],
   "source": [
    "# next packet\n",
    "message = ne300._acoem_construct_message(command=7, payload=bytes([0,0,0,0]))\n",
    "response = ne300.tcpip_comm(message=message)\n",
    "response"
   ]
  }
 ],
 "metadata": {
  "kernelspec": {
   "display_name": "Python 3",
   "language": "python",
   "name": "python3"
  },
  "language_info": {
   "codemirror_mode": {
    "name": "ipython",
    "version": 3
   },
   "file_extension": ".py",
   "mimetype": "text/x-python",
   "name": "python",
   "nbconvert_exporter": "python",
   "pygments_lexer": "ipython3",
   "version": "3.8.8"
  }
 },
 "nbformat": 4,
 "nbformat_minor": 2
}
