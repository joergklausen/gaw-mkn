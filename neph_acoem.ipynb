{
 "cells": [
  {
   "cell_type": "code",
   "execution_count": 1,
   "metadata": {},
   "outputs": [
    {
     "name": "stdout",
     "output_type": "stream",
     "text": [
      "# Initialize NEPH (name: ne300  S/N: 23-0690)\n",
      "  - Instrument identified itself as '{'id': 'ACOEM Aurora NE-300 Sub-Type: 0 Range: 0 Build: 158 Branch: 300'}'.\n",
      "  - Instrument current operation: ambient.\n",
      "  - Logging config reported by instrument: [3635000, 3525000, 3450000, 3635090, 3525090, 3450090, 2635000, 2525000, 2450000, 2635090, 2525090, 2450090, 8635000, 8525000, 8450000, 8635090, 8525090, 8450090, 7635000, 7525000, 7450000, 7635090, 7525090, 7450090, 5001, 5002, 5003, 5004, 5005, 13635000, 13525000, 13450000, 15635000, 15525000, 15450000, 11635000, 11525000, 11450000, 11635090, 11525090, 11450090, 6001, 6002, 6003, 5011].\n",
      "  - Datalog interval set to 60 seconds.\n"
     ]
    }
   ],
   "source": [
    "import time\n",
    "import datetime\n",
    "from mkndaq.inst.neph import NEPH\n",
    "import schedule\n",
    "import threading\n",
    "\n",
    "cfg = {'ne300': {\n",
    "                'type': 'NE300',\n",
    "                'serial_number': '23-0690',\n",
    "                'serial_id': 0,\n",
    "                'protocol': 'acoem',\n",
    "                'socket': {\n",
    "                    'host': '192.168.0.50',\n",
    "                    'port': 32783,\n",
    "                    'timeout': 10,\n",
    "                },\n",
    "                'data_log': {\n",
    "                    # 'parameters': [3635000, 3525000, 3450000, 3635090, 3525090, 3450090, \n",
    "                    #                2635000, 2525000, 2450000, 2635090, 2525090, 2450090, \n",
    "                    #                8635000, 8525000, 8450000, 8635090, 8525090, 8450090, \n",
    "                    #                7635000, 7525000, 7450000, 7635090, 7525090, 7450090, \n",
    "                    #                5001, 5002, 5003, 5004, 5005, \n",
    "                    #                13635000, 13525000, 13450000, \n",
    "                    #                15635000, 15525000, 15450000, \n",
    "                    #                11635000, 11525000, 11450000, 11635090, 11525090, 11450090, \n",
    "                    #                6007, 6008, 6001, 6002, 6003, \n",
    "                    #                5011, 5012, 5014, 4035],\n",
    "                    # 'parameters': [2635000, 2525000, 2450000, 2635090, 2525090, 2450090, \n",
    "                    #             #    3635000, 3525000, 3450000, 3635090, 3525090, 3450090, \n",
    "                    #             #    12635000, 12525000, 12450000, 12635090, 12525090, 12450090, \n",
    "                    #             #    13635000, 13525000, 13450000, 13635090, 13525090, 13450090, \n",
    "                    #             #    14635000, 14525000, 14450000, 14635090, 14525090, 14450090,\n",
    "                    #             #    15635000, 15525000, 15450000, 15635090, 15525090, 15450090,\n",
    "                    #             #    16635000, 16525000, 16450000, 16635090, 16525090, 16450090,\n",
    "                    #                5001, 5002, 5003, 5004, 5005, 5006, 5010, \n",
    "                    #                26635000, 26525000, 26450000, \n",
    "                    #                13525000, \n",
    "                    #                15635000, 15525000, 15450000, \n",
    "                    #                11635000, 11525000, 11450000, 11635090, 11525090, 11450090, \n",
    "                    #                6007, 6008, 6001, 6002, 6003, \n",
    "                    #                6635000, 6525000, 6450000, 6635090, 6525090, 6450090, \n",
    "                    #                5011, 5012, 5014, 4035],\n",
    "                    'parameters': [1000000, 2000000, 3000000, 6000000, 7000000, 8000000, \n",
    "                                   11000000, 12000000, 13000000, 14000000, 15000000, 16000000, \n",
    "                                   17000000, 18000000, 19000000, 20000000, 21000000, 26000000, \n",
    "                                   5001, 5002, 5003, 5004, 5005, 5006, \n",
    "                                   5010, 6007, 6008, 6001, 6002, 6003, \n",
    "                                   4035, 4036],\n",
    "                    'wavelengths': [0,0,0,0,0,0,0,0,0,0,0,0,0,0,0,0,0,0,0,0,0,0,0,0,0,0,0,0,0,0,0,0,],\n",
    "                    'angles': [0,0,0,0,0,0,0,0,0,0,0,0,0,0,0,0,0,0,0,0,0,0,0,0,0,0,0,0,0,0,0,0,],\n",
    "                    'interval': 60, \n",
    "                },\n",
    "                'get_data_interval': 3, # minutes. logger retrieval interval\n",
    "                'zero_span_check_interval': 13,\n",
    "                'zero_check_duration': 5,\n",
    "                'span_check_duration': 3,\n",
    "                'staging_zip': True,  \n",
    "                'verbosity': 2,  # 0: silent, 1: medium, 2: full          \n",
    "            },\n",
    "            'reporting_interval': 10,\n",
    "            'logs': 'mkndaq/logs',\n",
    "            'data': 'mkndaq/data',\n",
    "            'staging': {\n",
    "                'path': 'mkndaq/staging',\n",
    "            },\n",
    "}\n",
    "ne300 = NEPH('ne300', cfg, verbosity=0)\n",
    "# # Initialize NEPH (name: ne300  S/N: 23-0690)\n",
    "#   Instrument identified itself as '{'Model': 158, 'Variant': 300, 'Sub-Type': 0, 'Range': 0, 'Build': 158, 'Branch': 300}'."
   ]
  },
  {
   "cell_type": "code",
   "execution_count": 7,
   "metadata": {},
   "outputs": [
    {
     "name": "stdout",
     "output_type": "stream",
     "text": [
      "{5006: 35.0099983215332}\n"
     ]
    }
   ],
   "source": [
    "resp = ne300.get_values([5006])\n",
    "time.sleep(.5)\n",
    "print(resp)"
   ]
  },
  {
   "cell_type": "code",
   "execution_count": 10,
   "metadata": {},
   "outputs": [
    {
     "name": "stdout",
     "output_type": "stream",
     "text": [
      "message sent: b'\\x02\\x00\\x05\\x03\\x00\\x08\\x00\\x00\\x07\\xee\\x00\\x00\\x13\\x8ex\\x04'\n"
     ]
    },
    {
     "data": {
      "text/plain": [
       "0"
      ]
     },
     "execution_count": 10,
     "metadata": {},
     "output_type": "execute_result"
    }
   ],
   "source": [
    "ne300.set_value(2030, 5006, verify=False, verbosity=2)\n",
    "# ne300.set_value(4035, 1)"
   ]
  },
  {
   "cell_type": "code",
   "execution_count": 11,
   "metadata": {},
   "outputs": [
    {
     "data": {
      "text/plain": [
       "[45,\n",
       " 3635000,\n",
       " 3525000,\n",
       " 3450000,\n",
       " 3635090,\n",
       " 3525090,\n",
       " 3450090,\n",
       " 2635000,\n",
       " 2525000,\n",
       " 2450000,\n",
       " 2635090,\n",
       " 2525090,\n",
       " 2450090,\n",
       " 8635000,\n",
       " 8525000,\n",
       " 8450000,\n",
       " 8635090,\n",
       " 8525090,\n",
       " 8450090,\n",
       " 7635000,\n",
       " 7525000,\n",
       " 7450000,\n",
       " 7635090,\n",
       " 7525090,\n",
       " 7450090,\n",
       " 5001,\n",
       " 5002,\n",
       " 5003,\n",
       " 5004,\n",
       " 5005,\n",
       " 13635000,\n",
       " 13525000,\n",
       " 13450000,\n",
       " 15635000,\n",
       " 15525000,\n",
       " 15450000,\n",
       " 11635000,\n",
       " 11525000,\n",
       " 11450000,\n",
       " 11635090,\n",
       " 11525090,\n",
       " 11450090,\n",
       " 6001,\n",
       " 6002,\n",
       " 6003,\n",
       " 5011]"
      ]
     },
     "execution_count": 11,
     "metadata": {},
     "output_type": "execute_result"
    }
   ],
   "source": [
    "ne300.get_data_log_config()"
   ]
  },
  {
   "cell_type": "code",
   "execution_count": null,
   "metadata": {},
   "outputs": [],
   "source": [
    "import logging\n",
    "\n",
    "def run_threaded(job_func):\n",
    "    \"\"\"Set up threading and start job.\n",
    "\n",
    "    Args:\n",
    "        job_func ([type]): [description]\n",
    "    \"\"\"\n",
    "    job_thread = threading.Thread(target=job_func)\n",
    "    job_thread.start()\n",
    "\n",
    "# limit logging from schedule\n",
    "logging.getLogger('schedule').setLevel(logging.CRITICAL)\n",
    "\n",
    "# align start with a 10' timestamp\n",
    "while int(time.time()) % 10 > 0:\n",
    "    time.sleep(0.1)\n",
    "\n",
    "fetch = 20\n",
    "schedule.every(fetch).seconds.do(ne300.print_ssp_bssp)\n",
    "schedule.every(cfg['ne300']['get_data_interval']).minutes.at(':10').do(run_threaded, ne300.get_new_data)\n",
    "schedule.every(cfg['ne300']['zero_span_check_interval']).minutes.at(':00').do(run_threaded, ne300.do_zero_span_check)\n",
    "\n",
    "while True:\n",
    "    schedule.run_pending()\n",
    "    time.sleep(1)"
   ]
  },
  {
   "cell_type": "code",
   "execution_count": null,
   "metadata": {},
   "outputs": [],
   "source": [
    "res = ne300.get_id()\n",
    "print(res)"
   ]
  },
  {
   "cell_type": "code",
   "execution_count": null,
   "metadata": {},
   "outputs": [],
   "source": [
    "# mimick VI099 response\n",
    "ne300.get_current_data(strict=True, verbosity=0)"
   ]
  },
  {
   "cell_type": "code",
   "execution_count": null,
   "metadata": {},
   "outputs": [],
   "source": [
    "ne300.get_current_data(verbosity=0)"
   ]
  },
  {
   "cell_type": "code",
   "execution_count": null,
   "metadata": {},
   "outputs": [],
   "source": [
    "ne300.get_values([1635000, 1525000], verbosity=2)"
   ]
  },
  {
   "cell_type": "code",
   "execution_count": null,
   "metadata": {},
   "outputs": [],
   "source": [
    "# retrieve VI099 command parameters\n",
    "ne300.get_values(parameters=[1, 1635000,1525000,1450000,1635090,1525090,1450090,5001,5004,5003,5002,4036,4035])"
   ]
  },
  {
   "cell_type": "code",
   "execution_count": null,
   "metadata": {},
   "outputs": [],
   "source": [
    "ne300.get_current_data(add_params=[1001, 1002, 1003, 1004, 1005, 2001, 2002])"
   ]
  },
  {
   "cell_type": "code",
   "execution_count": null,
   "metadata": {},
   "outputs": [],
   "source": [
    "# not implemented\n",
    "ne300.get_new_data()"
   ]
  },
  {
   "cell_type": "code",
   "execution_count": null,
   "metadata": {},
   "outputs": [],
   "source": [
    "# not implemented\n",
    "ne300.get_all_data()"
   ]
  },
  {
   "cell_type": "code",
   "execution_count": null,
   "metadata": {},
   "outputs": [],
   "source": [
    "ne300.get_instr_type()"
   ]
  },
  {
   "cell_type": "code",
   "execution_count": null,
   "metadata": {},
   "outputs": [],
   "source": [
    "ne300.get_datetime()"
   ]
  },
  {
   "cell_type": "code",
   "execution_count": null,
   "metadata": {},
   "outputs": [],
   "source": [
    "ne300.get_data_log_config()"
   ]
  },
  {
   "cell_type": "code",
   "execution_count": null,
   "metadata": {},
   "outputs": [],
   "source": [
    "# cycle through operating states\n",
    "# 0: ambient, 1: zero, 2: span\n",
    "for i in [1, 2, 0]:\n",
    "    print(f\"current: {ne300.get_current_operation()} > set: {i} ...\")\n",
    "    print(f\"done: {ne300.set_current_operation(state=i)} okay\")\n",
    "    time.sleep(3)"
   ]
  },
  {
   "cell_type": "code",
   "execution_count": null,
   "metadata": {},
   "outputs": [],
   "source": [
    "from datetime import datetime, timezone, timedelta\n",
    "end = datetime.now(timezone.utc)\n",
    "start = end - timedelta(minutes=10)\n",
    "print(f\"start: {start}\\nend  : {end}\")\n",
    "data = ne300.get_logged_data(start=start, end=end, verbosity=1)\n",
    "# for i in range(len(data)):\n",
    "    # print(data[i])"
   ]
  },
  {
   "cell_type": "code",
   "execution_count": null,
   "metadata": {},
   "outputs": [],
   "source": [
    "# repeat packet\n",
    "message = ne300._acoem_construct_message(command=7, payload=bytes([0,0,0,1]))\n",
    "response = ne300.tcpip_comm(message=message)\n",
    "print(response)\n",
    "display(ne300._acoem_decode_logged_data(response=response))"
   ]
  },
  {
   "cell_type": "code",
   "execution_count": null,
   "metadata": {},
   "outputs": [],
   "source": [
    "# next packet\n",
    "message = ne300._acoem_construct_message(command=7, payload=bytes([0,0,0,0]))\n",
    "response = ne300.tcpip_comm(message=message)\n",
    "response"
   ]
  }
 ],
 "metadata": {
  "kernelspec": {
   "display_name": "Python 3",
   "language": "python",
   "name": "python3"
  },
  "language_info": {
   "codemirror_mode": {
    "name": "ipython",
    "version": 3
   },
   "file_extension": ".py",
   "mimetype": "text/x-python",
   "name": "python",
   "nbconvert_exporter": "python",
   "pygments_lexer": "ipython3",
   "version": "3.11.1"
  }
 },
 "nbformat": 4,
 "nbformat_minor": 2
}
