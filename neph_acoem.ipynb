{
 "cells": [
  {
   "cell_type": "code",
   "execution_count": null,
   "metadata": {},
   "outputs": [],
   "source": [
    "import os\n",
    "import threading\n",
    "import time\n",
    "\n",
    "import schedule\n",
    "\n",
    "# import datetime\n",
    "from mkndaq.inst.neph import NEPH\n",
    "from mkndaq.utils.utils import setup_logging, load_config\n",
    "\n",
    "cfg = {'ne300': {\n",
    "                'type': 'NE300',\n",
    "                'serial_number': '23-0690',\n",
    "                'serial_id': 0,\n",
    "                'protocol': 'acoem',\n",
    "                'socket': {\n",
    "                    'host': '192.168.3.149',\n",
    "                    'port': 32783,\n",
    "                    'timeout': 10,\n",
    "                },\n",
    "                'data_log': {\n",
    "                    'parameters': [1000000, 2000000, 3000000, 6000000, 7000000, 8000000, \n",
    "                                   11000000, 12000000, 13000000, 14000000, 15000000, 16000000, \n",
    "                                   17000000, 18000000, 19000000, 20000000, 21000000, 26000000, \n",
    "                                   5001, 5002, 5003, 5004, 5005, 5006, \n",
    "                                   5010, 6007, 6008, 6001, 6002, 6003, \n",
    "                                   4035, 4036],\n",
    "                    'wavelengths': [0,0,0,0,0,0,0,0,0,0,0,0,0,0,0,0,0,0,0,0,0,0,0,0,0,0,0,0,0,0,0,0,],\n",
    "                    'angles': [0,0,0,0,0,0,0,0,0,0,0,0,0,0,0,0,0,0,0,0,0,0,0,0,0,0,0,0,0,0,0,0,],\n",
    "                    'interval': 60, \n",
    "                },\n",
    "                'sampling_interval': 2, # minutes. logger retrieval interval\n",
    "                'reporting_interval': 10,\n",
    "                'zero_span_check_interval': 1500,\n",
    "                'zero_check_duration': 30,\n",
    "                'span_check_duration': 0,\n",
    "                'staging_zip': True,  \n",
    "                'verbosity': 2,  # 0: silent, 1: medium, 2: full          \n",
    "                'data_path': 'data/ne300-test',\n",
    "                'staging_path': 'staging/ne300-test',\n",
    "                'remote_path': 'ne300',\n",
    "            },\n",
    "            'reporting_interval': 10,\n",
    "            # 'logs': 'mkndaq/logs',\n",
    "    'logging': {\n",
    "        'file': 'mkndaq.log',\n",
    "        'level_console': 'DEBUG',\n",
    "        'level_file': 'ERROR',\n",
    "    },\n",
    "    'root': '~/Documents/mkndaq',\n",
    "}\n",
    "\n",
    "# \"\"\"Read config file, set up instruments, and launch data acquisition.\"\"\"\n",
    "# # collect and parse CLI arguments\n",
    "# parser = argparse.ArgumentParser(\n",
    "#     description='Data acquisition and transfer for MKN Global GAW Station.',\n",
    "#     usage='python3 mkndaq.py|mkndaq.exe -c [-f]')\n",
    "# parser.add_argument('-c', '--configuration', type=str,\n",
    "#                     help='full path to configuration file',\n",
    "#                     default='dist/mkndaq.yml', required=False)\n",
    "# parser.add_argument('-f', '--fetch', type=int, default=20,\n",
    "#                     help='interval in seconds to fetch and display current instrument data',\n",
    "#                     required=False)\n",
    "# args = parser.parse_args()\n",
    "# fetch = args.fetch\n",
    "# config_file = args.configuration\n",
    "config_file = 'C:/Users/mkn/Documents/git/mkndaq/dist/mkndaq.yml'\n",
    "\n",
    "# load configuation\n",
    "cfg = load_config(config_file=config_file)\n",
    "\n",
    "# setup logging\n",
    "logfile = os.path.join(os.path.expanduser(str(cfg['root'])),\n",
    "                        cfg['logging']['file'])\n",
    "logger = setup_logging(file=logfile)\n",
    "logger.error('test error logging')\n",
    "\n",
    "ne300 = NEPH('ne300', cfg, verbosity=0)\n",
    "# # Initialize NEPH (name: ne300  S/N: 23-0690)\n",
    "#   Instrument identified itself as '{'Model': 158, 'Variant': 300, 'Sub-Type': 0, 'Range': 0, 'Build': 158, 'Branch': 300}'."
   ]
  },
  {
   "cell_type": "code",
   "execution_count": null,
   "metadata": {},
   "outputs": [],
   "source": [
    "import logging\n",
    "\n",
    "def run_threaded(job_func):\n",
    "    \"\"\"Set up threading and start job.\n",
    "\n",
    "    Args:\n",
    "        job_func ([type]): [description]\n",
    "    \"\"\"\n",
    "    job_thread = threading.Thread(target=job_func)\n",
    "    job_thread.start()\n",
    "\n",
    "# limit logging from schedule\n",
    "logging.getLogger('schedule').setLevel(logging.CRITICAL)\n",
    "\n",
    "# align start with a 10' timestamp\n",
    "while int(time.time()) % 10 > 0:\n",
    "    time.sleep(0.1)\n",
    "\n",
    "fetch = 40\n",
    "schedule.every(fetch).seconds.do(ne300.print_ssp_bssp)\n",
    "schedule.every(cfg['ne300']['sampling_interval']).minutes.at(':10').do(run_threaded, ne300._accumulate_new_data)\n",
    "# schedule.every(cfg['ne300']['zero_span_check_interval']).minutes.at(':00').do(run_threaded, ne300.do_zero_span_check)\n",
    "for minute in range(6):\n",
    "    schedule.every().hour.at(f\"{minute}0:01\").do(ne300._save_and_stage_data)\n",
    "\n",
    "while True:\n",
    "    schedule.run_pending()\n",
    "    time.sleep(1)"
   ]
  },
  {
   "cell_type": "code",
   "execution_count": null,
   "metadata": {},
   "outputs": [],
   "source": [
    "resp = ne300.get_values([5006])\n",
    "time.sleep(.5)\n",
    "print(resp)"
   ]
  },
  {
   "cell_type": "code",
   "execution_count": null,
   "metadata": {},
   "outputs": [],
   "source": [
    "ne300.set_value(2030, 5006, verify=False, verbosity=2)\n",
    "# ne300.set_value(4035, 1)"
   ]
  },
  {
   "cell_type": "code",
   "execution_count": null,
   "metadata": {},
   "outputs": [],
   "source": [
    "ne300.get_data_log_config()"
   ]
  },
  {
   "cell_type": "code",
   "execution_count": null,
   "metadata": {},
   "outputs": [],
   "source": [
    "res = ne300.get_id()\n",
    "print(res)"
   ]
  },
  {
   "cell_type": "code",
   "execution_count": null,
   "metadata": {},
   "outputs": [],
   "source": [
    "# mimick VI099 response\n",
    "ne300.get_current_data(strict=True, verbosity=0)"
   ]
  },
  {
   "cell_type": "code",
   "execution_count": null,
   "metadata": {},
   "outputs": [],
   "source": [
    "ne300.get_current_data(verbosity=0)"
   ]
  },
  {
   "cell_type": "code",
   "execution_count": null,
   "metadata": {},
   "outputs": [],
   "source": [
    "ne300.get_values([1635000, 1525000], verbosity=2)"
   ]
  },
  {
   "cell_type": "code",
   "execution_count": null,
   "metadata": {},
   "outputs": [],
   "source": [
    "# retrieve VI099 command parameters\n",
    "ne300.get_values(parameters=[1, 1635000,1525000,1450000,1635090,1525090,1450090,5001,5004,5003,5002,4036,4035])"
   ]
  },
  {
   "cell_type": "code",
   "execution_count": null,
   "metadata": {},
   "outputs": [],
   "source": [
    "ne300.get_current_data(add_params=[1001, 1002, 1003, 1004, 1005, 2001, 2002])"
   ]
  },
  {
   "cell_type": "code",
   "execution_count": null,
   "metadata": {},
   "outputs": [],
   "source": [
    "# not implemented\n",
    "ne300._accumulate_new_data()\n",
    "ne300._data"
   ]
  },
  {
   "cell_type": "code",
   "execution_count": null,
   "metadata": {},
   "outputs": [],
   "source": [
    "# not implemented\n",
    "# ne300.get_all_data()"
   ]
  },
  {
   "cell_type": "code",
   "execution_count": null,
   "metadata": {},
   "outputs": [],
   "source": [
    "ne300.get_instr_type()"
   ]
  },
  {
   "cell_type": "code",
   "execution_count": null,
   "metadata": {},
   "outputs": [],
   "source": [
    "ne300.get_datetime()"
   ]
  },
  {
   "cell_type": "code",
   "execution_count": null,
   "metadata": {},
   "outputs": [],
   "source": [
    "ne300.get_data_log_config()"
   ]
  },
  {
   "cell_type": "code",
   "execution_count": null,
   "metadata": {},
   "outputs": [],
   "source": [
    "# cycle through operating states\n",
    "# 0: ambient, 1: zero, 2: span\n",
    "for i in [1, 2, 0]:\n",
    "    print(f\"current: {ne300.get_current_operation()} > set: {i} ...\")\n",
    "    print(f\"done: {ne300.set_current_operation(state=i)} okay\")\n",
    "    time.sleep(3)"
   ]
  },
  {
   "cell_type": "code",
   "execution_count": null,
   "metadata": {},
   "outputs": [],
   "source": [
    "from datetime import datetime, timezone, timedelta\n",
    "end = datetime.now(timezone.utc)\n",
    "start = end - timedelta(minutes=5)\n",
    "print(f\"start: {start}\\nend  : {end}\")\n",
    "data = ne300.get_logged_data(start=start, end=end, verbosity=1)\n",
    "# for i in range(len(data)):\n",
    "    # print(data[i])"
   ]
  },
  {
   "cell_type": "code",
   "execution_count": null,
   "metadata": {},
   "outputs": [],
   "source": [
    "# repeat packet\n",
    "message = ne300._acoem_construct_message(command=7, payload=bytes([0,0,0,1]))\n",
    "response = ne300._tcpip_comm(message=message)\n",
    "print(response)\n",
    "display(ne300._acoem_decode_logged_data(response=response))"
   ]
  },
  {
   "cell_type": "code",
   "execution_count": null,
   "metadata": {},
   "outputs": [],
   "source": [
    "# next packet\n",
    "message = ne300._acoem_construct_message(command=7, payload=bytes([0,0,0,0]))\n",
    "response = ne300._tcpip_comm(message=message)\n",
    "response"
   ]
  }
 ],
 "metadata": {
  "kernelspec": {
   "display_name": ".venv",
   "language": "python",
   "name": "python3"
  },
  "language_info": {
   "codemirror_mode": {
    "name": "ipython",
    "version": 3
   },
   "file_extension": ".py",
   "mimetype": "text/x-python",
   "name": "python",
   "nbconvert_exporter": "python",
   "pygments_lexer": "ipython3",
   "version": "3.8.8"
  }
 },
 "nbformat": 4,
 "nbformat_minor": 2
}
