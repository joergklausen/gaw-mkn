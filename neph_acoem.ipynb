{
 "cells": [
  {
   "cell_type": "code",
   "execution_count": 2,
   "metadata": {},
   "outputs": [
    {
     "name": "stdout",
     "output_type": "stream",
     "text": [
      "# Initialize NEPH (name: ne300  S/N: 23-0690)\n",
      "  - Instrument identified itself as '{'id': 'ACOEM Aurora NE-300 Sub-Type: 0 Range: 0 Build: 158 Branch: 300'}'.\n",
      "  - Instrument current operation: ambient.\n",
      "2024-05-21 17:42:55 [ne300] dtm found: 2024-05-21 17:42:54 > dtm set: 2024-05-21 17:42:54.\n"
     ]
    }
   ],
   "source": [
    "import time\n",
    "import datetime\n",
    "from mkndaq.inst.neph import NEPH\n",
    "import schedule\n",
    "import threading\n",
    "\n",
    "cfg = {'ne300': {\n",
    "                'type': 'NE300',\n",
    "                'serial_number': '23-0690',\n",
    "                'serial_id': 0,\n",
    "                'protocol': 'acoem',\n",
    "                'socket': {\n",
    "                    'host': '192.168.0.50',\n",
    "                    'port': 32783,\n",
    "                    'timeout': 10,\n",
    "                },\n",
    "                'sampling_interval': 1, # this is the logger retrieval interval\n",
    "                'zero_span_check_interval': 7,\n",
    "                'zero_check_duration': 3,\n",
    "                'span_check_duration': 2,\n",
    "                'staging_zip': True,  \n",
    "                'verbosity': 2,  # 0: silent, 1: medium, 2: full          \n",
    "            },\n",
    "            'reporting_interval': 10,\n",
    "            'logs': 'mkndaq/logs',\n",
    "            'data': 'mkndaq/data',\n",
    "            'staging': {\n",
    "                'path': 'mkndaq/staging',\n",
    "            },\n",
    "}\n",
    "ne300 = NEPH('ne300', cfg, verbosity=0)\n",
    "# # Initialize NEPH (name: ne300  S/N: 23-0690)\n",
    "#   Instrument identified itself as '{'Model': 158, 'Variant': 300, 'Sub-Type': 0, 'Range': 0, 'Build': 158, 'Branch': 300}'."
   ]
  },
  {
   "cell_type": "code",
   "execution_count": null,
   "metadata": {},
   "outputs": [],
   "source": [
    "def run_threaded(job_func):\n",
    "    \"\"\"Set up threading and start job.\n",
    "\n",
    "    Args:\n",
    "        job_func ([type]): [description]\n",
    "    \"\"\"\n",
    "    job_thread = threading.Thread(target=job_func)\n",
    "    job_thread.start()\n",
    "\n",
    "fetch = 20\n",
    "schedule.every(fetch).seconds.do(ne300.print_ssp_bssp)\n",
    "schedule.every(cfg['ne300']['sampling_interval']).minutes.at(':00').do(run_threaded, ne300.get_new_data)\n",
    "schedule.every(cfg['ne300']['zero_span_check_interval']).minutes.at(':00').do(run_threaded, ne300.do_zero_span_check)\n",
    "while True:\n",
    "    schedule.run_pending()\n",
    "    time.sleep(1)"
   ]
  },
  {
   "cell_type": "code",
   "execution_count": null,
   "metadata": {},
   "outputs": [],
   "source": [
    "res = ne300.get_id()\n",
    "print(res)"
   ]
  },
  {
   "cell_type": "code",
   "execution_count": null,
   "metadata": {},
   "outputs": [],
   "source": [
    "# mimick VI099 response\n",
    "ne300.get_current_data(strict=True, verbosity=0)"
   ]
  },
  {
   "cell_type": "code",
   "execution_count": null,
   "metadata": {},
   "outputs": [],
   "source": [
    "ne300.get_current_data(verbosity=0)"
   ]
  },
  {
   "cell_type": "code",
   "execution_count": null,
   "metadata": {},
   "outputs": [],
   "source": [
    "ne300.get_values([1635000, 1525000], verbosity=2)"
   ]
  },
  {
   "cell_type": "code",
   "execution_count": null,
   "metadata": {},
   "outputs": [],
   "source": [
    "# retrieve VI099 command parameters\n",
    "ne300.get_values(parameters=[1, 1635000,1525000,1450000,1635090,1525090,1450090,5001,5004,5003,5002,4036,4035])"
   ]
  },
  {
   "cell_type": "code",
   "execution_count": null,
   "metadata": {},
   "outputs": [],
   "source": [
    "ne300.get_current_data(add_params=[1001, 1002, 1003, 1004, 1005, 2001, 2002])"
   ]
  },
  {
   "cell_type": "code",
   "execution_count": null,
   "metadata": {},
   "outputs": [],
   "source": [
    "# not implemented\n",
    "ne300.get_new_data()"
   ]
  },
  {
   "cell_type": "code",
   "execution_count": null,
   "metadata": {},
   "outputs": [],
   "source": [
    "# not implemented\n",
    "ne300.get_all_data()"
   ]
  },
  {
   "cell_type": "code",
   "execution_count": null,
   "metadata": {},
   "outputs": [],
   "source": [
    "ne300.get_instr_type()"
   ]
  },
  {
   "cell_type": "code",
   "execution_count": null,
   "metadata": {},
   "outputs": [],
   "source": [
    "ne300.get_datetime()"
   ]
  },
  {
   "cell_type": "code",
   "execution_count": null,
   "metadata": {},
   "outputs": [],
   "source": [
    "ne300.get_logging_config()"
   ]
  },
  {
   "cell_type": "code",
   "execution_count": null,
   "metadata": {},
   "outputs": [],
   "source": [
    "# cycle through operating states\n",
    "# 0: ambient, 1: zero, 2: span\n",
    "for i in [1, 2, 0]:\n",
    "    print(f\"current: {ne300.get_current_operation()} > set: {i} ...\")\n",
    "    print(f\"done: {ne300.set_current_operation(state=i)} okay\")\n",
    "    time.sleep(3)"
   ]
  },
  {
   "cell_type": "code",
   "execution_count": null,
   "metadata": {},
   "outputs": [],
   "source": [
    "from datetime import datetime, timezone, timedelta\n",
    "end = datetime.now(timezone.utc)\n",
    "start = end - timedelta(minutes=10)\n",
    "print(f\"start: {start}\\nend  : {end}\")\n",
    "data = ne300.get_logged_data(start=start, end=end, verbosity=1)\n",
    "# for i in range(len(data)):\n",
    "    # print(data[i])"
   ]
  },
  {
   "cell_type": "code",
   "execution_count": null,
   "metadata": {},
   "outputs": [],
   "source": [
    "# repeat packet\n",
    "message = ne300._acoem_construct_message(command=7, payload=bytes([0,0,0,1]))\n",
    "response = ne300.tcpip_comm(message=message)\n",
    "print(response)\n",
    "display(ne300._acoem_decode_logged_data(response=response))"
   ]
  },
  {
   "cell_type": "code",
   "execution_count": null,
   "metadata": {},
   "outputs": [],
   "source": [
    "# next packet\n",
    "message = ne300._acoem_construct_message(command=7, payload=bytes([0,0,0,0]))\n",
    "response = ne300.tcpip_comm(message=message)\n",
    "response"
   ]
  }
 ],
 "metadata": {
  "kernelspec": {
   "display_name": "Python 3",
   "language": "python",
   "name": "python3"
  },
  "language_info": {
   "codemirror_mode": {
    "name": "ipython",
    "version": 3
   },
   "file_extension": ".py",
   "mimetype": "text/x-python",
   "name": "python",
   "nbconvert_exporter": "python",
   "pygments_lexer": "ipython3",
   "version": "3.11.1"
  }
 },
 "nbformat": 4,
 "nbformat_minor": 2
}
