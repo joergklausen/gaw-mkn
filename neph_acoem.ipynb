{
 "cells": [
  {
   "cell_type": "code",
   "execution_count": 1,
   "metadata": {},
   "outputs": [
    {
     "name": "stdout",
     "output_type": "stream",
     "text": [
      "# Initialize NEPH (name: ne300  S/N: 23-0690)\n",
      "  - Instrument identified itself as '{'id': 'ACOEM Aurora NE-300 Sub-Type: 0 Range: 0 Build: 158 Branch: 300'}'.\n",
      "  - Instrument current operation: ambient.\n",
      "2024-05-24 09:39:41 [ne300] dtm found: 2024-05-24 09:39:40 > dtm after set: 2024-05-24 09:39:40.\n"
     ]
    }
   ],
   "source": [
    "import time\n",
    "import datetime\n",
    "from mkndaq.inst.neph import NEPH\n",
    "import schedule\n",
    "import threading\n",
    "\n",
    "cfg = {'ne300': {\n",
    "                'type': 'NE300',\n",
    "                'serial_number': '23-0690',\n",
    "                'serial_id': 0,\n",
    "                'protocol': 'acoem',\n",
    "                'socket': {\n",
    "                    'host': '192.168.0.50',\n",
    "                    'port': 32783,\n",
    "                    'timeout': 10,\n",
    "                },\n",
    "                'get_data_interval': 3, # this is the logger retrieval interval\n",
    "                'zero_span_check_interval': 7,\n",
    "                'zero_check_duration': 3,\n",
    "                'span_check_duration': 2,\n",
    "                'staging_zip': True,  \n",
    "                'verbosity': 2,  # 0: silent, 1: medium, 2: full          \n",
    "            },\n",
    "            'reporting_interval': 10,\n",
    "            'logs': 'mkndaq/logs',\n",
    "            'data': 'mkndaq/data',\n",
    "            'staging': {\n",
    "                'path': 'mkndaq/staging',\n",
    "            },\n",
    "}\n",
    "ne300 = NEPH('ne300', cfg, verbosity=0)\n",
    "# # Initialize NEPH (name: ne300  S/N: 23-0690)\n",
    "#   Instrument identified itself as '{'Model': 158, 'Variant': 300, 'Sub-Type': 0, 'Range': 0, 'Build': 158, 'Branch': 300}'."
   ]
  },
  {
   "cell_type": "code",
   "execution_count": 2,
   "metadata": {},
   "outputs": [
    {
     "name": "stdout",
     "output_type": "stream",
     "text": [
      "2024-05-24 09:40:10 [ne300] ssp|bssp (Mm-1) r: -0.2498|-0.6653 g: 0.7726|0.1490 b: 0.6757|0.2156\n",
      "2024-05-24 09:40:30 [ne300] ssp|bssp (Mm-1) r: -0.2514|-0.6695 g: 0.7803|0.1386 b: 0.6978|0.2113\n",
      "2024-05-24 09:40:50 [ne300] ssp|bssp (Mm-1) r: -0.2136|-0.6632 g: 0.8241|0.1238 b: 0.7104|0.2129\n",
      "2024-05-24 09:41:10 [ne300] ssp|bssp (Mm-1) r: -0.2085|-0.6660 g: 0.8367|0.1199 b: 0.7152|0.2146\n",
      "2024-05-24 09:41:30 [ne300] ssp|bssp (Mm-1) r: -0.2366|-0.6775 g: 0.7987|0.1148 b: 0.7132|0.2128\n",
      "2024-05-24 09:41:50 [ne300] ssp|bssp (Mm-1) r: -0.2670|-0.6955 g: 0.7712|0.1226 b: 0.7102|0.2127\n",
      "2024-05-24 09:42:00 .get_new_data (name=ne300, save=True)\n",
      "2024-05-24 09:42:10 [ne300] ssp|bssp (Mm-1) r: -0.2393|-0.6941 g: 0.8414|0.1078 b: 0.7190|0.2075\n",
      "2024-05-24 09:42:30 [ne300] ssp|bssp (Mm-1) r: -0.0743|-0.7004 g: 0.8043|0.1291 b: 0.7163|0.2002\n",
      "2024-05-24 09:42:50 [ne300] ssp|bssp (Mm-1) r: 0.0708|-0.6911 g: 0.9130|0.1271 b: 0.7253|0.2006\n",
      "2024-05-24 09:43:10 [ne300] ssp|bssp (Mm-1) r: 0.1154|-0.7075 g: 1.0499|0.1131 b: 0.7500|0.1920\n",
      "2024-05-24 09:43:30 [ne300] ssp|bssp (Mm-1) r: 0.1241|-0.6984 g: 0.9785|0.1095 b: 0.7412|0.1882\n",
      "2024-05-24 09:43:50 [ne300] ssp|bssp (Mm-1) r: 0.0509|-0.7083 g: 0.8940|0.1007 b: 0.7347|0.1892\n",
      "2024-05-24 09:44:10 [ne300] ssp|bssp (Mm-1) r: -0.0017|-0.7011 g: 0.8393|0.1218 b: 0.7256|0.1905\n",
      "2024-05-24 09:44:30 [ne300] ssp|bssp (Mm-1) r: -0.0704|-0.7144 g: 0.8139|0.1582 b: 0.7317|0.1976\n",
      "2024-05-24 09:44:50 [ne300] ssp|bssp (Mm-1) r: -0.1106|-0.7299 g: 0.7751|0.1571 b: 0.7197|0.2015\n",
      "2024-05-24 09:45:00 .get_new_data (name=ne300, save=True)\n",
      "2024-05-24 09:45:10 [ne300] ssp|bssp (Mm-1) r: -0.1580|-0.7239 g: 0.7381|0.1522 b: 0.7082|0.2079\n",
      "2024-05-24 09:45:30 [ne300] ssp|bssp (Mm-1) r: -0.1048|-0.6882 g: 0.7118|0.1484 b: 0.7089|0.2151\n",
      "2024-05-24 09:45:50 [ne300] ssp|bssp (Mm-1) r: -0.1307|-0.6822 g: 0.6464|0.1458 b: 0.7039|0.2150\n",
      "2024-05-24 09:46:08 [ne300] Instrument switched to ZERO CHECK mode.\n",
      "2024-05-24 09:46:10 [ne300] ssp|bssp (Mm-1) r: -0.1860|-0.7019 g: 0.6538|0.1704 b: 0.7000|0.2105\n",
      "2024-05-24 09:46:30 [ne300] ssp|bssp (Mm-1) r: -0.1306|-0.6901 g: 0.6842|0.1441 b: 0.7051|0.2034\n",
      "2024-05-24 09:46:50 [ne300] ssp|bssp (Mm-1) r: -0.1156|-0.6718 g: 0.6675|0.1400 b: 0.7087|0.2099\n",
      "2024-05-24 09:47:10 [ne300] ssp|bssp (Mm-1) r: -0.1642|-0.6564 g: 0.6566|0.1505 b: 0.6971|0.2085\n",
      "2024-05-24 09:47:30 [ne300] ssp|bssp (Mm-1) r: -0.1252|-0.6607 g: 0.7586|0.1526 b: 0.7275|0.2075\n",
      "2024-05-24 09:47:50 [ne300] ssp|bssp (Mm-1) r: 0.0156|-0.6770 g: 0.7879|0.1509 b: 0.7306|0.2160\n",
      "2024-05-24 09:48:00 .get_new_data (name=ne300, save=True)\n",
      "2024-05-24 09:48:10 [ne300] ssp|bssp (Mm-1) r: -0.0463|-0.6492 g: 0.7805|0.1555 b: 0.7234|0.2195\n",
      "2024-05-24 09:48:30 [ne300] ssp|bssp (Mm-1) r: -0.0346|-0.6190 g: 0.8173|0.1689 b: 0.7419|0.2225\n",
      "2024-05-24 09:48:50 [ne300] ssp|bssp (Mm-1) r: -0.0909|-0.6074 g: 0.8131|0.1734 b: 0.7606|0.2280\n",
      "2024-05-24 09:49:08 [ne300] Instrument switched to SPAN CHECK mode.\n",
      "2024-05-24 09:49:10 [ne300] ssp|bssp (Mm-1) r: 0.0181|-0.5919 g: 0.8002|0.1815 b: 0.7615|0.2280\n",
      "2024-05-24 09:49:30 [ne300] ssp|bssp (Mm-1) r: -0.0207|-0.5825 g: 0.7861|0.1809 b: 0.7571|0.2303\n",
      "2024-05-24 09:49:50 [ne300] ssp|bssp (Mm-1) r: -0.0253|-0.5661 g: 0.8104|0.1778 b: 0.7628|0.2261\n",
      "2024-05-24 09:50:10 [ne300] ssp|bssp (Mm-1) r: -0.0749|-0.5633 g: 0.8010|0.1815 b: 0.7725|0.2210\n",
      "2024-05-24 09:50:30 [ne300] ssp|bssp (Mm-1) r: -0.0842|-0.5817 g: 0.7977|0.1861 b: 0.7673|0.2238\n",
      "2024-05-24 09:50:50 [ne300] ssp|bssp (Mm-1) r: -0.1043|-0.6055 g: 0.7814|0.1812 b: 0.7742|0.2181\n",
      "2024-05-24 09:51:00 .get_new_data (name=ne300, save=True)\n",
      "2024-05-24 09:51:08 [ne300] Instrument switched to AMBIENT mode.\n",
      "2024-05-24 09:51:10 [ne300] ssp|bssp (Mm-1) r: -0.1449|-0.5915 g: 0.7882|0.1915 b: 0.7791|0.2203\n",
      "2024-05-24 09:51:30 [ne300] ssp|bssp (Mm-1) r: -0.1342|-0.5726 g: 0.7771|0.1976 b: 0.7773|0.2211\n",
      "2024-05-24 09:51:50 [ne300] ssp|bssp (Mm-1) r: -0.1150|-0.5995 g: 0.7621|0.1841 b: 0.7585|0.2182\n",
      "2024-05-24 09:52:11 [ne300] ssp|bssp (Mm-1) r: -0.1568|-0.6013 g: 0.7493|0.1828 b: 0.7601|0.2150\n",
      "2024-05-24 09:52:31 [ne300] ssp|bssp (Mm-1) r: -0.1506|-0.6347 g: 0.7319|0.1765 b: 0.7680|0.2217\n",
      "2024-05-24 09:52:51 [ne300] ssp|bssp (Mm-1) r: -0.1753|-0.6471 g: 0.7098|0.1804 b: 0.7609|0.2186\n",
      "2024-05-24 09:53:08 [ne300] Instrument switched to ZERO CHECK mode.\n",
      "2024-05-24 09:53:11 [ne300] ssp|bssp (Mm-1) r: -0.2035|-0.6382 g: 0.7001|0.1713 b: 0.7680|0.2184\n",
      "2024-05-24 09:53:31 [ne300] ssp|bssp (Mm-1) r: -0.2046|-0.6440 g: 0.7009|0.1692 b: 0.7725|0.2199\n",
      "2024-05-24 09:53:51 [ne300] ssp|bssp (Mm-1) r: -0.1906|-0.6549 g: 0.7215|0.1668 b: 0.7797|0.2144\n"
     ]
    },
    {
     "ename": "KeyboardInterrupt",
     "evalue": "",
     "output_type": "error",
     "traceback": [
      "\u001b[1;31m---------------------------------------------------------------------------\u001b[0m",
      "\u001b[1;31mKeyboardInterrupt\u001b[0m                         Traceback (most recent call last)",
      "Cell \u001b[1;32mIn[2], line 21\u001b[0m\n\u001b[0;32m     19\u001b[0m \u001b[38;5;28;01mwhile\u001b[39;00m \u001b[38;5;28;01mTrue\u001b[39;00m:\n\u001b[0;32m     20\u001b[0m     schedule\u001b[38;5;241m.\u001b[39mrun_pending()\n\u001b[1;32m---> 21\u001b[0m     time\u001b[38;5;241m.\u001b[39msleep(\u001b[38;5;241m1\u001b[39m)\n",
      "\u001b[1;31mKeyboardInterrupt\u001b[0m: "
     ]
    }
   ],
   "source": [
    "def run_threaded(job_func):\n",
    "    \"\"\"Set up threading and start job.\n",
    "\n",
    "    Args:\n",
    "        job_func ([type]): [description]\n",
    "    \"\"\"\n",
    "    job_thread = threading.Thread(target=job_func)\n",
    "    job_thread.start()\n",
    "\n",
    "# align start with a 10' timestamp\n",
    "while int(time.time()) % 10 > 0:\n",
    "    time.sleep(0.1)\n",
    "\n",
    "fetch = 20\n",
    "schedule.every(fetch).seconds.do(ne300.print_ssp_bssp)\n",
    "schedule.every(cfg['ne300']['get_data_interval']).minutes.at(':00').do(run_threaded, ne300.get_new_data)\n",
    "schedule.every(cfg['ne300']['zero_span_check_interval']).minutes.at(':00').do(run_threaded, ne300.do_zero_span_check)\n",
    "\n",
    "while True:\n",
    "    schedule.run_pending()\n",
    "    time.sleep(1)"
   ]
  },
  {
   "cell_type": "code",
   "execution_count": null,
   "metadata": {},
   "outputs": [],
   "source": [
    "res = ne300.get_id()\n",
    "print(res)"
   ]
  },
  {
   "cell_type": "code",
   "execution_count": null,
   "metadata": {},
   "outputs": [],
   "source": [
    "# mimick VI099 response\n",
    "ne300.get_current_data(strict=True, verbosity=0)"
   ]
  },
  {
   "cell_type": "code",
   "execution_count": null,
   "metadata": {},
   "outputs": [],
   "source": [
    "ne300.get_current_data(verbosity=0)"
   ]
  },
  {
   "cell_type": "code",
   "execution_count": null,
   "metadata": {},
   "outputs": [],
   "source": [
    "ne300.get_values([1635000, 1525000], verbosity=2)"
   ]
  },
  {
   "cell_type": "code",
   "execution_count": null,
   "metadata": {},
   "outputs": [],
   "source": [
    "# retrieve VI099 command parameters\n",
    "ne300.get_values(parameters=[1, 1635000,1525000,1450000,1635090,1525090,1450090,5001,5004,5003,5002,4036,4035])"
   ]
  },
  {
   "cell_type": "code",
   "execution_count": null,
   "metadata": {},
   "outputs": [],
   "source": [
    "ne300.get_current_data(add_params=[1001, 1002, 1003, 1004, 1005, 2001, 2002])"
   ]
  },
  {
   "cell_type": "code",
   "execution_count": null,
   "metadata": {},
   "outputs": [],
   "source": [
    "# not implemented\n",
    "ne300.get_new_data()"
   ]
  },
  {
   "cell_type": "code",
   "execution_count": null,
   "metadata": {},
   "outputs": [],
   "source": [
    "# not implemented\n",
    "ne300.get_all_data()"
   ]
  },
  {
   "cell_type": "code",
   "execution_count": null,
   "metadata": {},
   "outputs": [],
   "source": [
    "ne300.get_instr_type()"
   ]
  },
  {
   "cell_type": "code",
   "execution_count": null,
   "metadata": {},
   "outputs": [],
   "source": [
    "ne300.get_datetime()"
   ]
  },
  {
   "cell_type": "code",
   "execution_count": null,
   "metadata": {},
   "outputs": [],
   "source": [
    "ne300.get_logging_config()"
   ]
  },
  {
   "cell_type": "code",
   "execution_count": null,
   "metadata": {},
   "outputs": [],
   "source": [
    "# cycle through operating states\n",
    "# 0: ambient, 1: zero, 2: span\n",
    "for i in [1, 2, 0]:\n",
    "    print(f\"current: {ne300.get_current_operation()} > set: {i} ...\")\n",
    "    print(f\"done: {ne300.set_current_operation(state=i)} okay\")\n",
    "    time.sleep(3)"
   ]
  },
  {
   "cell_type": "code",
   "execution_count": null,
   "metadata": {},
   "outputs": [],
   "source": [
    "from datetime import datetime, timezone, timedelta\n",
    "end = datetime.now(timezone.utc)\n",
    "start = end - timedelta(minutes=10)\n",
    "print(f\"start: {start}\\nend  : {end}\")\n",
    "data = ne300.get_logged_data(start=start, end=end, verbosity=1)\n",
    "# for i in range(len(data)):\n",
    "    # print(data[i])"
   ]
  },
  {
   "cell_type": "code",
   "execution_count": null,
   "metadata": {},
   "outputs": [],
   "source": [
    "# repeat packet\n",
    "message = ne300._acoem_construct_message(command=7, payload=bytes([0,0,0,1]))\n",
    "response = ne300.tcpip_comm(message=message)\n",
    "print(response)\n",
    "display(ne300._acoem_decode_logged_data(response=response))"
   ]
  },
  {
   "cell_type": "code",
   "execution_count": null,
   "metadata": {},
   "outputs": [],
   "source": [
    "# next packet\n",
    "message = ne300._acoem_construct_message(command=7, payload=bytes([0,0,0,0]))\n",
    "response = ne300.tcpip_comm(message=message)\n",
    "response"
   ]
  }
 ],
 "metadata": {
  "kernelspec": {
   "display_name": "Python 3",
   "language": "python",
   "name": "python3"
  },
  "language_info": {
   "codemirror_mode": {
    "name": "ipython",
    "version": 3
   },
   "file_extension": ".py",
   "mimetype": "text/x-python",
   "name": "python",
   "nbconvert_exporter": "python",
   "pygments_lexer": "ipython3",
   "version": "3.11.1"
  }
 },
 "nbformat": 4,
 "nbformat_minor": 2
}
