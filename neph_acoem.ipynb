{
 "cells": [
  {
   "cell_type": "code",
   "execution_count": 1,
   "metadata": {},
   "outputs": [
    {
     "name": "stdout",
     "output_type": "stream",
     "text": [
      "# Initialize NEPH (name: ne300  S/N: 23-0690)\n",
      "  - Instrument identified itself as '{'id': 'ACOEM Aurora NE-300 Sub-Type: 0 Range: 0 Build: 158 Branch: 300'}'.\n",
      "  - Instrument current operation: ambient.\n",
      "2024-05-30 17:26:49 [ne300] dtm found: 2024-05-30 17:26:48 > dtm after set: 2024-05-30 17:26:48.\n",
      "  - Currently logged parameters: [41, 2635000, 2525000, 2450000, 2635090, 2525090, 2450090, 5001, 5002, 5003, 5004, 5005, 5006, 5010, 26635000, 26525000, 26450000, 13525000, 15635000, 15525000, 15450000, 11635000, 11525000, 11450000, 11635090, 11525090, 11450090, 6007, 6008, 6001, 6002, 6003, 6635000, 6525000, 6450000, 6635090, 6525090, 6450090, 5011, 5012, 5014, 4035].\n"
     ]
    }
   ],
   "source": [
    "import time\n",
    "import datetime\n",
    "from mkndaq.inst.neph import NEPH\n",
    "import schedule\n",
    "import threading\n",
    "\n",
    "cfg = {'ne300': {\n",
    "                'type': 'NE300',\n",
    "                'serial_number': '23-0690',\n",
    "                'serial_id': 0,\n",
    "                'protocol': 'acoem',\n",
    "                'socket': {\n",
    "                    'host': '192.168.0.50',\n",
    "                    'port': 32783,\n",
    "                    'timeout': 10,\n",
    "                },\n",
    "                'datalog': {\n",
    "                    'parameters': [2635000, 2525000, 2450000, 2635090, 2525090, 2450090, \n",
    "                                   5001, 5002, 5003, 5004, 5005, 5006, 5010, \n",
    "                                   26635000, 26525000, 26450000, \n",
    "                                   13525000, \n",
    "                                   15635000, 15525000, 15450000, \n",
    "                                   11635000, 11525000, 11450000, 11635090, 11525090, 11450090, \n",
    "                                   6007, 6008, 6001, 6002, 6003, \n",
    "                                   6635000, 6525000, 6450000, 6635090, 6525090, 6450090, \n",
    "                                   5011, 5012, 5014, 4035],\n",
    "                    'interval': 60, \n",
    "                },\n",
    "                'get_data_interval': 3, # minutes. logger retrieval interval\n",
    "                'zero_span_check_interval': 13,\n",
    "                'zero_check_duration': 5,\n",
    "                'span_check_duration': 3,\n",
    "                'staging_zip': True,  \n",
    "                'verbosity': 2,  # 0: silent, 1: medium, 2: full          \n",
    "            },\n",
    "            'reporting_interval': 10,\n",
    "            'logs': 'mkndaq/logs',\n",
    "            'data': 'mkndaq/data',\n",
    "            'staging': {\n",
    "                'path': 'mkndaq/staging',\n",
    "            },\n",
    "}\n",
    "ne300 = NEPH('ne300', cfg, verbosity=0)\n",
    "# # Initialize NEPH (name: ne300  S/N: 23-0690)\n",
    "#   Instrument identified itself as '{'Model': 158, 'Variant': 300, 'Sub-Type': 0, 'Range': 0, 'Build': 158, 'Branch': 300}'."
   ]
  },
  {
   "cell_type": "code",
   "execution_count": 2,
   "metadata": {},
   "outputs": [
    {
     "name": "stdout",
     "output_type": "stream",
     "text": [
      "2024-05-30 17:27:20 [ne300] ssp|bssp (Mm-1) r: -0.3532|-0.6674 g: 0.6819|0.1931 b: 0.6582|0.1712\n",
      "2024-05-30 17:27:40 [ne300] ssp|bssp (Mm-1) r: -0.3493|-0.6658 g: 0.6844|0.1905 b: 0.6505|0.1683\n",
      "2024-05-30 17:28:00 [ne300] ssp|bssp (Mm-1) r: -0.3352|-0.6598 g: 0.6849|0.1911 b: 0.6470|0.1758\n",
      "2024-05-30 17:28:20 [ne300] ssp|bssp (Mm-1) r: -0.3166|-0.6663 g: 0.6723|0.1873 b: 0.6368|0.1773\n",
      "2024-05-30 17:28:40 [ne300] ssp|bssp (Mm-1) r: -0.3243|-0.6682 g: 0.6609|0.1874 b: 0.6310|0.1784\n",
      "2024-05-30 17:29:00 [ne300] ssp|bssp (Mm-1) r: -0.3276|-0.6666 g: 0.6637|0.1841 b: 0.6239|0.1712\n",
      "2024-05-30 17:29:20 [ne300] ssp|bssp (Mm-1) r: -0.3401|-0.6659 g: 0.6514|0.1880 b: 0.6249|0.1741\n",
      "2024-05-30 17:29:40 [ne300] ssp|bssp (Mm-1) r: -0.3397|-0.6655 g: 0.6470|0.1862 b: 0.6240|0.1712\n",
      "2024-05-30 17:30:00 .get_new_data (name=ne300, save=True)\n",
      "2024-05-30 17:30:00 [ne300] ssp|bssp (Mm-1) r: -0.3360|-0.6680 g: 0.6486|0.1850 b: 0.6294|0.1702\n",
      "2024-05-30 17:30:20 [ne300] ssp|bssp (Mm-1) r: -0.3449|-0.6705 g: 0.6438|0.1803 b: 0.6386|0.1738\n",
      "2024-05-30 17:30:40 [ne300] ssp|bssp (Mm-1) r: -0.3436|-0.6654 g: 0.6328|0.1759 b: 0.6306|0.1757\n",
      "2024-05-30 17:31:00 [ne300] ssp|bssp (Mm-1) r: -0.3485|-0.6686 g: 0.6185|0.1782 b: 0.6223|0.1711\n",
      "2024-05-30 17:31:20 [ne300] ssp|bssp (Mm-1) r: -0.3603|-0.6746 g: 0.6373|0.1786 b: 0.6278|0.1758\n",
      "2024-05-30 17:31:40 [ne300] ssp|bssp (Mm-1) r: -0.3712|-0.6707 g: 0.6508|0.1819 b: 0.6167|0.1762\n",
      "2024-05-30 17:32:00 [ne300] ssp|bssp (Mm-1) r: -0.3714|-0.6651 g: 0.6503|0.1841 b: 0.6133|0.1849\n",
      "2024-05-30 17:32:20 [ne300] ssp|bssp (Mm-1) r: -0.3871|-0.6650 g: 0.6423|0.1813 b: 0.6053|0.1762\n",
      "2024-05-30 17:32:40 [ne300] ssp|bssp (Mm-1) r: -0.3963|-0.6624 g: 0.6404|0.1812 b: 0.5956|0.1689\n",
      "2024-05-30 17:33:00 .get_new_data (name=ne300, save=True)\n",
      "2024-05-30 17:33:00 [ne300] ssp|bssp (Mm-1) r: -0.3977|-0.6645 g: 0.6404|0.1794 b: 0.5982|0.1654\n",
      "2024-05-30 17:33:20 [ne300] ssp|bssp (Mm-1) r: -0.3725|-0.6658 g: 0.6422|0.1784 b: 0.6100|0.1660\n",
      "2024-05-30 17:33:40 [ne300] ssp|bssp (Mm-1) r: -0.3619|-0.6606 g: 0.6476|0.1831 b: 0.6148|0.1593\n",
      "2024-05-30 17:34:00 [ne300] ssp|bssp (Mm-1) r: -0.3455|-0.6604 g: 0.6506|0.1827 b: 0.6336|0.1612\n",
      "2024-05-30 17:34:20 [ne300] ssp|bssp (Mm-1) r: -0.3211|-0.6543 g: 0.7249|0.1872 b: 0.7167|0.1596\n",
      "2024-05-30 17:34:40 [ne300] ssp|bssp (Mm-1) r: -0.3222|-0.6558 g: 0.7326|0.1872 b: 0.7215|0.1626\n",
      "2024-05-30 17:35:00 [ne300] ssp|bssp (Mm-1) r: -0.3151|-0.6573 g: 0.7391|0.1898 b: 0.7295|0.1614\n",
      "2024-05-30 17:35:20 [ne300] ssp|bssp (Mm-1) r: -0.3186|-0.6527 g: 0.7303|0.1892 b: 0.7389|0.1595\n",
      "2024-05-30 17:35:40 [ne300] ssp|bssp (Mm-1) r: -0.3001|-0.6478 g: 0.7337|0.2091 b: 0.7564|0.1769\n",
      "2024-05-30 17:36:00 .get_new_data (name=ne300, save=True)\n",
      "2024-05-30 17:36:00 [ne300] ssp|bssp (Mm-1) r: -0.2710|-0.6454 g: 0.8150|0.2454 b: 0.7829|0.1566\n",
      "2024-05-30 17:36:20 [ne300] ssp|bssp (Mm-1) r: -0.2560|-0.6390 g: 0.8621|0.2442 b: 0.7749|0.1213\n",
      "2024-05-30 17:36:40 [ne300] ssp|bssp (Mm-1) r: -0.2416|-0.6445 g: 1.1929|0.2466 b: 0.8682|0.1385\n",
      "2024-05-30 17:37:00 [ne300] ssp|bssp (Mm-1) r: -0.2438|-0.6470 g: 1.1816|0.2522 b: 0.9515|0.1443\n",
      "2024-05-30 17:37:20 [ne300] ssp|bssp (Mm-1) r: -0.2166|-0.6446 g: 1.1353|0.2451 b: 1.3002|0.0853\n",
      "2024-05-30 17:37:40 [ne300] ssp|bssp (Mm-1) r: -0.2248|-0.6439 g: 1.2122|0.2475 b: 1.2890|0.0660\n",
      "2024-05-30 17:38:00 [ne300] ssp|bssp (Mm-1) r: -0.2220|-0.6487 g: 1.3130|0.2401 b: 1.2153|0.0730\n",
      "2024-05-30 17:38:20 [ne300] ssp|bssp (Mm-1) r: -0.1983|-0.6540 g: 1.4534|0.2259 b: 1.2331|0.0942\n",
      "2024-05-30 17:38:40 [ne300] ssp|bssp (Mm-1) r: -0.1658|-0.6535 g: 1.7124|0.2145 b: 1.4003|0.1048\n",
      "2024-05-30 17:39:00 .get_new_data (name=ne300, save=True)\n",
      "2024-05-30 17:39:00 [ne300] ssp|bssp (Mm-1) r: -0.1247|-0.6487 g: 1.7734|0.2250 b: 1.4574|0.1151\n",
      "2024-05-30 17:39:10 [ne300] Switching to ZERO CHECK mode ...\n",
      "2024-05-30 17:39:20 [ne300] ssp|bssp (Mm-1) r: -0.1213|-0.6573 g: 1.7822|0.1706 b: 1.4746|0.0896\n",
      "2024-05-30 17:39:40 [ne300] ssp|bssp (Mm-1) r: -0.0933|-0.6572 g: 1.7428|0.1231 b: 1.4183|0.0851\n",
      "2024-05-30 17:40:00 [ne300] ssp|bssp (Mm-1) r: -0.0865|-0.6625 g: 1.7400|0.0798 b: 1.4937|0.0768\n",
      "2024-05-30 17:40:20 [ne300] ssp|bssp (Mm-1) r: -0.0491|-0.6596 g: 1.6742|0.0562 b: 1.5026|0.0650\n",
      "2024-05-30 17:40:41 [ne300] ssp|bssp (Mm-1) r: -0.0386|-0.6640 g: 1.8521|0.1212 b: 1.4977|0.0682\n",
      "2024-05-30 17:41:01 [ne300] ssp|bssp (Mm-1) r: -0.0245|-0.6762 g: 1.8098|0.0932 b: 1.3741|0.0955\n",
      "2024-05-30 17:41:21 [ne300] ssp|bssp (Mm-1) r: 0.0676|-0.6942 g: 2.0709|0.0579 b: 1.8174|0.0929\n",
      "2024-05-30 17:41:41 [ne300] ssp|bssp (Mm-1) r: 0.3720|-0.7097 g: 2.0877|0.0793 b: 1.8424|0.1206\n",
      "2024-05-30 17:42:00 .get_new_data (name=ne300, save=True)\n",
      "2024-05-30 17:42:01 [ne300] ssp|bssp (Mm-1) r: 0.4026|-0.6888 g: 2.2048|0.1397 b: 2.2007|0.2177\n",
      "2024-05-30 17:42:21 [ne300] ssp|bssp (Mm-1) r: 0.3954|-0.7248 g: 2.1782|0.1744 b: 2.0378|0.2633\n",
      "2024-05-30 17:42:41 [ne300] ssp|bssp (Mm-1) r: 0.4959|-0.6855 g: 2.2110|0.1816 b: 2.0135|0.2989\n",
      "2024-05-30 17:43:01 [ne300] ssp|bssp (Mm-1) r: 0.5413|-0.7380 g: 2.2157|0.2001 b: 2.0564|0.2526\n",
      "2024-05-30 17:43:21 [ne300] ssp|bssp (Mm-1) r: 0.5099|-0.7759 g: 2.0770|0.1953 b: 1.9143|0.2474\n",
      "2024-05-30 17:43:41 [ne300] ssp|bssp (Mm-1) r: 0.5118|-0.7912 g: 1.9699|0.1985 b: 1.9885|0.2599\n",
      "2024-05-30 17:44:01 [ne300] ssp|bssp (Mm-1) r: 0.5104|-0.8021 g: 2.0126|0.2008 b: 1.7709|0.2049\n",
      "2024-05-30 17:44:21 [ne300] ssp|bssp (Mm-1) r: 0.4374|-0.7730 g: 1.9855|0.1761 b: 1.6735|0.2279\n",
      "2024-05-30 17:44:41 [ne300] ssp|bssp (Mm-1) r: 0.5246|-0.7474 g: 2.1435|0.2102 b: 1.6423|0.2312\n",
      "2024-05-30 17:45:00 .get_new_data (name=ne300, save=True)\n",
      "2024-05-30 17:45:01 [ne300] ssp|bssp (Mm-1) r: 0.5406|-0.7103 g: 2.2439|0.1674 b: 1.6741|0.2583\n",
      "2024-05-30 17:45:21 [ne300] ssp|bssp (Mm-1) r: 0.5006|-0.6932 g: 2.0437|0.1384 b: 1.5888|0.2478\n",
      "2024-05-30 17:45:41 [ne300] ssp|bssp (Mm-1) r: 0.6037|-0.6895 g: 1.7183|0.0843 b: 1.5707|0.2323\n",
      "2024-05-30 17:46:01 [ne300] ssp|bssp (Mm-1) r: 0.7095|-0.7280 g: 1.8236|0.1161 b: 1.7447|0.2151\n",
      "2024-05-30 17:46:21 [ne300] ssp|bssp (Mm-1) r: 0.5643|-0.7003 g: 1.5962|0.0850 b: 1.6684|0.2154\n",
      "2024-05-30 17:46:41 [ne300] ssp|bssp (Mm-1) r: 0.5665|-0.6731 g: 1.8478|0.1508 b: 1.6590|0.1652\n",
      "2024-05-30 17:47:01 [ne300] ssp|bssp (Mm-1) r: 0.6825|-0.7280 g: 2.2072|0.2180 b: 1.6382|0.1683\n",
      "2024-05-30 17:47:21 [ne300] ssp|bssp (Mm-1) r: 0.6104|-0.7117 g: 2.1329|0.2371 b: 1.7049|0.1870\n",
      "2024-05-30 17:47:41 [ne300] ssp|bssp (Mm-1) r: 0.5539|-0.7070 g: 2.0015|0.1736 b: 1.5992|0.1693\n",
      "2024-05-30 17:48:00 .get_new_data (name=ne300, save=True)\n",
      "2024-05-30 17:48:01 [ne300] ssp|bssp (Mm-1) r: 0.4265|-0.7178 g: 1.8896|0.1680 b: 1.5995|0.1939\n",
      "2024-05-30 17:48:21 [ne300] ssp|bssp (Mm-1) r: 0.3895|-0.7092 g: 1.8557|0.2115 b: 1.5406|0.1832\n",
      "2024-05-30 17:48:41 [ne300] ssp|bssp (Mm-1) r: 0.3772|-0.7592 g: 1.8036|0.2207 b: 1.5304|0.1454\n",
      "2024-05-30 17:49:01 [ne300] ssp|bssp (Mm-1) r: 0.3251|-0.7925 g: 1.7441|0.1889 b: 1.4734|0.1240\n",
      "2024-05-30 17:49:21 [ne300] ssp|bssp (Mm-1) r: 0.3399|-0.7977 g: 1.6618|0.1522 b: 1.3994|0.1179\n",
      "2024-05-30 17:49:41 [ne300] ssp|bssp (Mm-1) r: 0.3174|-0.7768 g: 1.5916|0.1743 b: 1.5309|0.1106\n",
      "2024-05-30 17:50:01 [ne300] ssp|bssp (Mm-1) r: 0.3067|-0.7754 g: 1.6327|0.1606 b: 1.3120|0.0776\n",
      "2024-05-30 17:50:21 [ne300] ssp|bssp (Mm-1) r: 0.2889|-0.7887 g: 1.6874|0.1533 b: 1.2671|0.0381\n",
      "2024-05-30 17:50:41 [ne300] ssp|bssp (Mm-1) r: 0.2730|-0.7800 g: 1.7766|0.1268 b: 1.3211|0.0420\n",
      "2024-05-30 17:51:00 .get_new_data (name=ne300, save=True)\n",
      "2024-05-30 17:51:01 [ne300] ssp|bssp (Mm-1) r: 0.3568|-0.7729 g: 1.7423|0.1417 b: 1.4660|0.0251\n",
      "2024-05-30 17:51:21 [ne300] ssp|bssp (Mm-1) r: 0.3247|-0.7573 g: 1.8168|0.1820 b: 1.4365|-0.0053\n",
      "2024-05-30 17:51:41 [ne300] ssp|bssp (Mm-1) r: 0.3959|-0.7350 g: 1.7858|0.1816 b: 1.5044|0.0217\n",
      "2024-05-30 17:52:01 [ne300] ssp|bssp (Mm-1) r: 0.4524|-0.7304 g: 1.7741|0.1666 b: 1.4844|0.0220\n",
      "2024-05-30 17:52:10 [ne300] Switching to ZERO CHECK mode ...\n"
     ]
    },
    {
     "ename": "KeyboardInterrupt",
     "evalue": "",
     "output_type": "error",
     "traceback": [
      "\u001b[1;31m---------------------------------------------------------------------------\u001b[0m",
      "\u001b[1;31mKeyboardInterrupt\u001b[0m                         Traceback (most recent call last)",
      "Cell \u001b[1;32mIn[2], line 21\u001b[0m\n\u001b[0;32m     19\u001b[0m \u001b[38;5;28;01mwhile\u001b[39;00m \u001b[38;5;28;01mTrue\u001b[39;00m:\n\u001b[0;32m     20\u001b[0m     schedule\u001b[38;5;241m.\u001b[39mrun_pending()\n\u001b[1;32m---> 21\u001b[0m     time\u001b[38;5;241m.\u001b[39msleep(\u001b[38;5;241m1\u001b[39m)\n",
      "\u001b[1;31mKeyboardInterrupt\u001b[0m: "
     ]
    }
   ],
   "source": [
    "def run_threaded(job_func):\n",
    "    \"\"\"Set up threading and start job.\n",
    "\n",
    "    Args:\n",
    "        job_func ([type]): [description]\n",
    "    \"\"\"\n",
    "    job_thread = threading.Thread(target=job_func)\n",
    "    job_thread.start()\n",
    "\n",
    "# align start with a 10' timestamp\n",
    "while int(time.time()) % 10 > 0:\n",
    "    time.sleep(0.1)\n",
    "\n",
    "fetch = 20\n",
    "schedule.every(fetch).seconds.do(ne300.print_ssp_bssp)\n",
    "schedule.every(cfg['ne300']['get_data_interval']).minutes.at(':10').do(run_threaded, ne300.get_new_data)\n",
    "schedule.every(cfg['ne300']['zero_span_check_interval']).minutes.at(':00').do(run_threaded, ne300.do_zero_span_check)\n",
    "\n",
    "while True:\n",
    "    schedule.run_pending()\n",
    "    time.sleep(1)"
   ]
  },
  {
   "cell_type": "code",
   "execution_count": null,
   "metadata": {},
   "outputs": [],
   "source": [
    "res = ne300.get_id()\n",
    "print(res)"
   ]
  },
  {
   "cell_type": "code",
   "execution_count": null,
   "metadata": {},
   "outputs": [],
   "source": [
    "# mimick VI099 response\n",
    "ne300.get_current_data(strict=True, verbosity=0)"
   ]
  },
  {
   "cell_type": "code",
   "execution_count": null,
   "metadata": {},
   "outputs": [],
   "source": [
    "ne300.get_current_data(verbosity=0)"
   ]
  },
  {
   "cell_type": "code",
   "execution_count": null,
   "metadata": {},
   "outputs": [],
   "source": [
    "ne300.get_values([1635000, 1525000], verbosity=2)"
   ]
  },
  {
   "cell_type": "code",
   "execution_count": null,
   "metadata": {},
   "outputs": [],
   "source": [
    "# retrieve VI099 command parameters\n",
    "ne300.get_values(parameters=[1, 1635000,1525000,1450000,1635090,1525090,1450090,5001,5004,5003,5002,4036,4035])"
   ]
  },
  {
   "cell_type": "code",
   "execution_count": null,
   "metadata": {},
   "outputs": [],
   "source": [
    "ne300.get_current_data(add_params=[1001, 1002, 1003, 1004, 1005, 2001, 2002])"
   ]
  },
  {
   "cell_type": "code",
   "execution_count": null,
   "metadata": {},
   "outputs": [],
   "source": [
    "# not implemented\n",
    "ne300.get_new_data()"
   ]
  },
  {
   "cell_type": "code",
   "execution_count": null,
   "metadata": {},
   "outputs": [],
   "source": [
    "# not implemented\n",
    "ne300.get_all_data()"
   ]
  },
  {
   "cell_type": "code",
   "execution_count": null,
   "metadata": {},
   "outputs": [],
   "source": [
    "ne300.get_instr_type()"
   ]
  },
  {
   "cell_type": "code",
   "execution_count": null,
   "metadata": {},
   "outputs": [],
   "source": [
    "ne300.get_datetime()"
   ]
  },
  {
   "cell_type": "code",
   "execution_count": null,
   "metadata": {},
   "outputs": [],
   "source": [
    "ne300.get_datalog_config()"
   ]
  },
  {
   "cell_type": "code",
   "execution_count": null,
   "metadata": {},
   "outputs": [],
   "source": [
    "# cycle through operating states\n",
    "# 0: ambient, 1: zero, 2: span\n",
    "for i in [1, 2, 0]:\n",
    "    print(f\"current: {ne300.get_current_operation()} > set: {i} ...\")\n",
    "    print(f\"done: {ne300.set_current_operation(state=i)} okay\")\n",
    "    time.sleep(3)"
   ]
  },
  {
   "cell_type": "code",
   "execution_count": null,
   "metadata": {},
   "outputs": [],
   "source": [
    "from datetime import datetime, timezone, timedelta\n",
    "end = datetime.now(timezone.utc)\n",
    "start = end - timedelta(minutes=10)\n",
    "print(f\"start: {start}\\nend  : {end}\")\n",
    "data = ne300.get_logged_data(start=start, end=end, verbosity=1)\n",
    "# for i in range(len(data)):\n",
    "    # print(data[i])"
   ]
  },
  {
   "cell_type": "code",
   "execution_count": null,
   "metadata": {},
   "outputs": [],
   "source": [
    "# repeat packet\n",
    "message = ne300._acoem_construct_message(command=7, payload=bytes([0,0,0,1]))\n",
    "response = ne300.tcpip_comm(message=message)\n",
    "print(response)\n",
    "display(ne300._acoem_decode_logged_data(response=response))"
   ]
  },
  {
   "cell_type": "code",
   "execution_count": null,
   "metadata": {},
   "outputs": [],
   "source": [
    "# next packet\n",
    "message = ne300._acoem_construct_message(command=7, payload=bytes([0,0,0,0]))\n",
    "response = ne300.tcpip_comm(message=message)\n",
    "response"
   ]
  }
 ],
 "metadata": {
  "kernelspec": {
   "display_name": "Python 3",
   "language": "python",
   "name": "python3"
  },
  "language_info": {
   "codemirror_mode": {
    "name": "ipython",
    "version": 3
   },
   "file_extension": ".py",
   "mimetype": "text/x-python",
   "name": "python",
   "nbconvert_exporter": "python",
   "pygments_lexer": "ipython3",
   "version": "3.11.1"
  }
 },
 "nbformat": 4,
 "nbformat_minor": 2
}
