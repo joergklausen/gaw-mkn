{
 "cells": [
  {
   "cell_type": "code",
   "execution_count": 1,
   "metadata": {},
   "outputs": [
    {
     "name": "stdout",
     "output_type": "stream",
     "text": [
      "# Initialize NE300 (name: ne300  S/N: 23-0690)\n"
     ]
    }
   ],
   "source": [
    "from mkndaq.inst.neph import NEPH\n",
    "\n",
    "cfg = {'ne300': {\n",
    "                'type': 'NE300',\n",
    "                'serial_number': '23-0690',\n",
    "                'serial_id': 0,\n",
    "                'protocol': 'acoem',\n",
    "                'socket': {\n",
    "                    'host': '192.168.0.50',\n",
    "                    'port': 32783,\n",
    "                    'timeout': 0.1,\n",
    "                    # 'sleep': 0.1,\n",
    "                },\n",
    "                # 'set_datetime': '',\n",
    "                # 'sampling_interval': '1',\n",
    "                'staging_zip': True,  \n",
    "                'verbosity': 2,  # 0: silent, 1: medium, 2: full          \n",
    "            },\n",
    "                'reporting_interval': '10',\n",
    "                'logs': 'mkndaq/logs',\n",
    "                'data': 'mkndaq/data',\n",
    "                'staging': {\n",
    "                    'path': 'mkndaq/staging',\n",
    "                },\n",
    "}\n",
    "\n",
    "ne300 = NEPH('ne300', cfg)"
   ]
  },
  {
   "cell_type": "code",
   "execution_count": 3,
   "metadata": {},
   "outputs": [
    {
     "data": {
      "text/plain": [
       "' 3'"
      ]
     },
     "execution_count": 3,
     "metadata": {},
     "output_type": "execute_result"
    }
   ],
   "source": [
    "n = 3.2\n",
    "f\"{n:2.0f}\""
   ]
  },
  {
   "cell_type": "code",
   "execution_count": 2,
   "metadata": {},
   "outputs": [
    {
     "name": "stdout",
     "output_type": "stream",
     "text": [
      "msg: b'\\x02\\x00\\x01\\x03\\x00\\x00\\x00\\x04'\n",
      "rcvd (raw): b'\\x02\\x00\\x01\\x03\\x00\\x10\\x00\\x00\\x00\\x9e\\x00\\x00\\x01,\\x00\\x00\\x00\\x00\\x00\\x00\\x00\\x00\\xa3\\x04'\n",
      "rcvd: b'\\x02\\x00\\x01\\x03\\x00\\x10\\x00\\x00\\x00\\x9e\\x00\\x00\\x01,\\x00\\x00\\x00\\x00\\x00\\x00\\x00\\x00\\xa3\\x04'\n",
      "response length: 4\n",
      "6: 158\n",
      "10: 300\n",
      "14: 0\n",
      "18: 0\n",
      "msg: b'\\x02\\x00\\x02\\x03\\x00\\x00\\x03\\x04'\n",
      "rcvd (raw): b'\\x02\\x00\\x02\\x03\\x00\\x08\\x00\\x00\\x01,\\x00\\x00\\x00\\x00&\\x04'\n",
      "rcvd: b'\\x02\\x00\\x02\\x03\\x00\\x08\\x00\\x00\\x01,\\x00\\x00\\x00\\x00&\\x04'\n",
      "response length: 2\n",
      "6: 300\n",
      "10: 0\n"
     ]
    },
    {
     "data": {
      "text/plain": [
       "[300, 0]"
      ]
     },
     "execution_count": 2,
     "metadata": {},
     "output_type": "execute_result"
    }
   ],
   "source": [
    "ne300.get_id()"
   ]
  },
  {
   "cell_type": "code",
   "execution_count": 5,
   "metadata": {},
   "outputs": [
    {
     "name": "stdout",
     "output_type": "stream",
     "text": [
      "msg: b'\\x02\\x00\\x04\\x03\\x00\\x04\\x00\\x00\\x00\\x01\\x00\\x04'\n",
      "rcvd (raw): b'\\x02\\x00\\x04\\x03\\x00\\x04\\x85d8e\\xbd\\x04'\n",
      "rcvd: b'\\x02\\x00\\x04\\x03\\x00\\x04\\x85d8e\\xbd\\x04'\n",
      "response length: 1\n",
      "6: 2237937765\n",
      "0b10000101011001000011100001100101\n"
     ]
    },
    {
     "data": {
      "text/plain": [
       "datetime.datetime(2033, 5, 18, 3, 33, 37)"
      ]
     },
     "execution_count": 5,
     "metadata": {},
     "output_type": "execute_result"
    }
   ],
   "source": [
    "ne300.get_datetime()"
   ]
  },
  {
   "cell_type": "code",
   "execution_count": 6,
   "metadata": {},
   "outputs": [
    {
     "name": "stdout",
     "output_type": "stream",
     "text": [
      "time.struct_time(tm_year=2024, tm_mon=4, tm_mday=24, tm_hour=15, tm_min=26, tm_sec=41, tm_wday=2, tm_yday=115, tm_isdst=0)\n",
      "msg: b'\\x02\\x00\\x05\\x03\\x00\\x08\\x00\\x00\\x00\\x01a0\\xf6\\xa9\\x03\\x04'\n",
      "rcvd (raw): b''\n",
      "rcvd: b''\n",
      "response length: 0\n",
      "msg: b'\\x02\\x00\\x04\\x03\\x00\\x04\\x00\\x00\\x00\\x01\\x00\\x04'\n",
      "rcvd (raw): b'\\x02\\x00\\x04\\x03\\x00\\x04a0\\xf6\\xa9\\x0f\\x04'\n",
      "rcvd: b'\\x02\\x00\\x04\\x03\\x00\\x04a0\\xf6\\xa9\\x0f\\x04'\n",
      "response length: 1\n",
      "6: 1630598825\n",
      "0b1100001001100001111011010101001\n"
     ]
    },
    {
     "data": {
      "text/plain": [
       "datetime.datetime(2024, 4, 24, 15, 26, 41)"
      ]
     },
     "execution_count": 6,
     "metadata": {},
     "output_type": "execute_result"
    }
   ],
   "source": [
    "import time\n",
    "dtm = time.localtime(2000000000)\n",
    "dtm = time.gmtime()\n",
    "ne300.set_datetime(dtm=dtm)\n",
    "ne300.get_datetime()"
   ]
  },
  {
   "cell_type": "code",
   "execution_count": null,
   "metadata": {},
   "outputs": [],
   "source": [
    "import datetime\n",
    "import time\n",
    "\n",
    "dtm = time.gmtime(2000000000)\n",
    "SS = bin(dtm.tm_sec)[2:].zfill(6)\n",
    "MM = bin(dtm.tm_min)[2:].zfill(6)\n",
    "HH = bin(dtm.tm_hour)[2:].zfill(5)\n",
    "dd = bin(dtm.tm_mday)[2:].zfill(5)\n",
    "mm = bin(dtm.tm_mon)[2:].zfill(4)\n",
    "yyyy = bin(dtm.tm_year - 2000).zfill(6)\n",
    "ab = (yyyy + mm + dd + HH + MM + SS)\n",
    "setdtm = (int(yyyy + mm + dd + HH + MM + SS, base=2)).to_bytes(4)\n",
    "bytes([int(ab[2:10], base=2), int(ab[10:18], base=2), int(ab[18:26], base=2), int(ab[26:34], base=2)])\n"
   ]
  },
  {
   "cell_type": "code",
   "execution_count": null,
   "metadata": {},
   "outputs": [],
   "source": [
    "# import socket\n",
    "# import time\n",
    "\n",
    "# def tcp(msg) -> bytes:\n",
    "#     with socket.socket(socket.AF_INET, socket.SOCK_STREAM, ) as s:\n",
    "#         # connect to the server\n",
    "#         s.settimeout(0.1)\n",
    "#         s.connect((\"192.168.0.50\", 32783))\n",
    "#         s.sendall(msg)\n",
    "#         print(f\"msg: {msg}\")\n",
    "\n",
    "#         # receive response\n",
    "#         rcvd = b\"\"\n",
    "#         while True:\n",
    "#             try:\n",
    "#                 data = s.recv(1024)\n",
    "#                 rcvd = rcvd + data\n",
    "#                 if chr(4).encode() in rcvd:\n",
    "#                     break\n",
    "#             except:\n",
    "#                 break\n",
    "#         print(f\"rcvd (raw): {rcvd}\")\n",
    "#         rcvd = rcvd.replace(b\"\\xff\\xfb\\x01\\xff\\xfe\\x01\\xff\\xfb\\x03\", b\"\")\n",
    "#         print(f\"rcvd: {rcvd}\")\n",
    "\n",
    "#         msg_len = int(int.from_bytes(rcvd[4:6]) / 4)\n",
    "#         print(f\"msg length: {msg_len}\")\n",
    "        \n",
    "#         result = []\n",
    "#         for i in range(6, (msg_len + 1) * 4 + 2, 4):\n",
    "#             token = int.from_bytes(rcvd[i:(i+4)])\n",
    "#             print(f\"{i}: {token}\")\n",
    "#             result.append(token)\n",
    "#     return result"
   ]
  },
  {
   "cell_type": "code",
   "execution_count": null,
   "metadata": {},
   "outputs": [],
   "source": [
    "# send data using ACOEM protocol\n",
    "# Byte  |1  |2  |3  |4  |5..6   |7..10      |11 |12\n",
    "#       |STX|sID|CMD|ETX|len    |data       |CS |EOT\n",
    "# chr(2) = STX\n",
    "# chr(3) = ETX\n",
    "# chr(4) = EOT\n",
    "\n",
    "def tcp2(serial_id: int, command: str, message_data: bytes) -> bytes:\n",
    "    commands = {\n",
    "        # 'get_error': bytes([0]),\n",
    "        'get_instr_type': 1,\n",
    "        'get_version': 2,\n",
    "        'reset': 3,\n",
    "        'get_values': 4,\n",
    "        }\n",
    "    msgl = len(message_data)\n",
    "    if msgl==0:\n",
    "        msg = bytes([2, serial_id, commands[command], 3, 0, msgl])\n",
    "    else:\n",
    "        msg = bytes([2, serial_id, commands[command], 3, 0, msgl]) + message_data\n",
    "    checksum = chksum(msg)\n",
    "    msg += checksum + bytes([4])\n",
    "\n",
    "    with socket.socket(socket.AF_INET, socket.SOCK_STREAM, ) as s:\n",
    "        # connect to the server\n",
    "        s.settimeout(0.1)\n",
    "        s.connect((\"192.168.0.50\", 32783))\n",
    "\n",
    "        s.sendall(msg)\n",
    "        print(f\"msg: {msg}\")\n",
    "\n",
    "        # receive response\n",
    "        rcvd = b\"\"\n",
    "        while True:\n",
    "            try:\n",
    "                data = s.recv(1024)\n",
    "                rcvd = rcvd + data\n",
    "                if chr(4).encode() in rcvd:\n",
    "                    break\n",
    "            except:\n",
    "                break\n",
    "        print(f\"rcvd (raw): {rcvd}\")\n",
    "        rcvd = rcvd.replace(b\"\\xff\\xfb\\x01\\xff\\xfe\\x01\\xff\\xfb\\x03\", b\"\")\n",
    "        print(f\"rcvd: {rcvd}\")\n",
    "\n",
    "        msg_len = int(int.from_bytes(rcvd[4:6]) / 4)\n",
    "        print(f\"msg length: {msg_len}\")\n",
    "        \n",
    "        result = []\n",
    "        for i in range(6, (msg_len + 1) * 4 + 2, 4):\n",
    "            token = int.from_bytes(rcvd[i:(i+4)])\n",
    "            print(f\"{i}: {token}\")\n",
    "            result.append(token)\n",
    "    return result"
   ]
  },
  {
   "cell_type": "code",
   "execution_count": null,
   "metadata": {},
   "outputs": [],
   "source": [
    "rcvd = tcp2(0, 'get_version', '')\n",
    "rcvd = tcp2(0, 'get_instr_type', '')\n"
   ]
  },
  {
   "cell_type": "code",
   "execution_count": null,
   "metadata": {},
   "outputs": [],
   "source": [
    "import datetime\n"
   ]
  },
  {
   "cell_type": "code",
   "execution_count": null,
   "metadata": {},
   "outputs": [],
   "source": [
    "# read current datetime (Aurora Table 46 Parameter 1)\n",
    "rcvd = tcp2(0, 'get_values', bytes([0,0,0,1]))\n",
    "print(acoem_timestamp_to_datetime(token=rcvd))"
   ]
  },
  {
   "cell_type": "code",
   "execution_count": null,
   "metadata": {},
   "outputs": [],
   "source": [
    "str = bytes([2,0,0,3,0,4])\n",
    "print(chksum(str))"
   ]
  },
  {
   "cell_type": "code",
   "execution_count": null,
   "metadata": {},
   "outputs": [],
   "source": [
    "print(\"read firmware version\")\n",
    "msg = bytes([2,0,2,3,0,0,3,4])\n",
    "rcvd = tcp(msg)\n",
    "print(rcvd)\n",
    "# read firmware version\n",
    "# sent: b'\\x02\\x00\\x02\\x03\\x00\\x00\\x03\\x04'\n",
    "# rcvd: b'\\x02\\x00\\x02\\x03\\x00\\x08\\x00\\x00\\x01,\\x00\\x00\\x00\\x00&\\x04'\n",
    "# msg length: 2\n",
    "# 6: 300\n",
    "# 10: 0"
   ]
  },
  {
   "cell_type": "code",
   "execution_count": null,
   "metadata": {},
   "outputs": [],
   "source": [
    "print(\"read instrument type\")\n",
    "msg = bytes([2,0,1,3,0,0,0,4])\n",
    "rcvd = tcp(msg)\n",
    "print(rcvd)"
   ]
  },
  {
   "cell_type": "code",
   "execution_count": null,
   "metadata": {},
   "outputs": [],
   "source": [
    "print(\"get value (primary gas data)\")\n",
    "msg = bytes([2,0,4,3,0,4,0,0,0,32,36,4])\n",
    "rcvd = tcp(msg)\n",
    "print(rcvd)"
   ]
  },
  {
   "cell_type": "code",
   "execution_count": null,
   "metadata": {},
   "outputs": [],
   "source": [
    "print(\"read error\")\n",
    "msg = bytes([2,0,0,3,0,0,0,4])\n",
    "\n",
    "print(f\"sent: {msg}\")\n",
    "rcvd = tcp(msg)\n",
    "print(f\"rcvd: {rcvd}\")\n",
    "msg_len = int(int.from_bytes(rcvd[4:6]) / 4)\n",
    "print(f\"msg length: {msg_len}\")\n",
    "for i in range(6, (msg_len + 1) * 4 + 2, 4):\n",
    "    print(f\"{i}: {int.from_bytes(rcvd[i:(i+4)])}\")"
   ]
  },
  {
   "cell_type": "code",
   "execution_count": null,
   "metadata": {},
   "outputs": [],
   "source": [
    "ne300.do_zero_check()\n",
    "time.sleep(60)\n",
    "for i in range(10):\n",
    "    ne300.get_data(save=True)\n",
    "    time.sleep(10)\n",
    "\n",
    "ne300.do_ambient()\n",
    "for i in range(10):\n",
    "    ne300.get_data(save=True)\n",
    "    time.sleep(10)\n"
   ]
  },
  {
   "cell_type": "code",
   "execution_count": null,
   "metadata": {},
   "outputs": [],
   "source": [
    "import time\n",
    "for i in range(3):\n",
    "    print(ne300.get_data(sep=\",\", save=False, get_status_word=False))\n",
    "    time.sleep(10)"
   ]
  },
  {
   "cell_type": "code",
   "execution_count": null,
   "metadata": {},
   "outputs": [],
   "source": [
    "# print(ne300.do_zero_check())\n",
    "print(ne300.get_all_new_data(save=False, sep=\"|\"))\n",
    "\n",
    "# Aurora NE-300 v5.0 ID #230690\n",
    "\n",
    "# (0, 'Aurora NE-300 v5.0 ID #230690\\r\\n')\n",
    "# 2024-01-25 14:37:37 .get_data (name=ne300, save=False)\n",
    "# (0, '28/2/2024 15:57:00|60|0|1.341209e+01|1.900581e+01|2.459902e+01|2.218892e+00|2.862914e+00|3.427358e+00|2.630001e+01|9.678900e+02|2.457000e+01|2.895999e+01|9.690800e+02|2.708000e+01|6.007494e+00|1.470621e-02|1.693243e-02|1.907027e-02|2.333371e+02|1.522294e+06|1.909421e+06|1.402254e+06|1.789572e+04|2.621301e+04|2.658940e+04|1.161944e+04|1.474019e+04|1.391521e+04|2.418457e+01|1.744695e+03|1.836182e+01|4.848633e+00|2.049459e+01|1.227465e-02|1.426282e-02|1.897962e-02|7.924382e-03|7.973331e-03|9.864524e-03|6.607600e+01|0.000000e+00|5.020050e+01|0.000000e+00|\\r\\n\\n28/2/2024 15:57:00|60|0|1.341209e+01|1.900581e+01|2.459902e+01|2.218892e+00|2.862914e+00|3.427358e+00|2.630001e+01|9.678900e+02|2.457000e+01|2.895999e+01|9.690800e+02|2.708000e+01|6.007494e+00|1.470621e-02|1.693243e-02|1.907027e-02|2.333371e+02|1.522294e+06|1.909421e+06|1.402254e+06|1.789572e+04|2.621301e+04|2.658940e+04|1.161944e+04|1.474019e+04|1.391521e+04|2.418457e+01|1.744695e+03|1.836182e+01|4.848633e+00|2.049459e+01|1.227465e-02|1.426282e-02|1.')\n",
    "# Instrument ne300 status: 30/11/2023 00:00:00,60,0,9.765964e-01,1.155139e+00,1.231401e+00,1.073153e-01,1.748719e-01,2.522535e-01,3.354000e+01,1.002410e+03,2.996000e+01,2.644000e+01,1.004090e+03,5.332000e+01,6.020748e+00,5.000000e-03,5.000000e-03,5.000000e-03,2.933394e+02,1.494557e+06,1.888788e+06,1.392557e+06,1.470679e+04,1.969712e+04,1.927430e+04,1.087828e+04,1.395863e+04,1.322223e+04,2.410400e+01,1.879666e+03,1.839111e+01,5.090332e+00,2.026616e+01,1.035651e-02,1.090555e-02,1.380057e-02,7.627005e-03,7.697072e-03,9.421869e-03,7.000000e+01,2.900000e+01,4.880183e+01,0.000000e+00,\n",
    "# 30/11/2023 00:01:00,60,0,9.642181e-01,1.143413e+00,1.238636e+00,1.114373e-01,1.734347e-01,2.362185e-01,3.351000e+01,1.002670e+03,2.996000e+01,2.638000e+01,1.003850e+03,5.332000e+01,5.982811e+00,1.746927e-02,5.000000e-03,5.000000e-03,2.433375e+02,1.493905e+06,1.891611e+06,1.389815e+06,1.404880e+04,1.947819e+04,1.927932e+04,1.091333e+04,1.383672e+04,1.295173e+04,2.412598e+01,1.708967e+03,1.841309e+01,4.965820e+00,2.026616e+01,9.923033e-03,1.079363e-02,1.\n",
    "# (0, '30/11/2023 00:00:00,60,0,9.765964e-01,1.155139e+00,1.231401e+00,1.073153e-01,1.748719e-01,2.522535e-01,3.354000e+01,1.002410e+03,2.996000e+01,2.644000e+01,1.004090e+03,5.332000e+01,6.020748e+00,5.000000e-03,5.000000e-03,5.000000e-03,2.933394e+02,1.494557e+06,1.888788e+06,1.392557e+06,1.470679e+04,1.969712e+04,1.927430e+04,1.087828e+04,1.395863e+04,1.322223e+04,2.410400e+01,1.879666e+03,1.839111e+01,5.090332e+00,2.026616e+01,1.035651e-02,1.090555e-02,1.380057e-02,7.627005e-03,7.697072e-03,9.421869e-03,7.000000e+01,2.900000e+01,4.880183e+01,0.000000e+00,\\r\\n30/11/2023 00:01:00,60,0,9.642181e-01,1.143413e+00,1.238636e+00,1.114373e-01,1.734347e-01,2.362185e-01,3.351000e+01,1.002670e+03,2.996000e+01,2.638000e+01,1.003850e+03,5.332000e+01,5.982811e+00,1.746927e-02,5.000000e-03,5.000000e-03,2.433375e+02,1.493905e+06,1.891611e+06,1.389815e+06,1.404880e+04,1.947819e+04,1.927932e+04,1.091333e+04,1.383672e+04,1.295173e+04,2.412598e+01,1.708967e+03,1.841309e+01,4.965820e+00,2.026616e+01,9.923033e-03,1.079363e-02,1')\n",
    "# 2024-01-25 14:23:26 .get_data (name=ne300, save=False)\n",
    "# (0, '28/2/2024 15:43:17,13.810564,2.414614,19.843826,2.683266,24.489584,3.266213,25.60,0,0.00,967.7,0,0\\r\\n')\n",
    "# 2024-01-25 14:23:36 .get_data (name=ne300, save=False)\n",
    "# (0, '28/2/2024 15:43:28,13.763916,2.429190,19.711246,2.699752,24.422705,3.274734,25.61,0,0.00,967.8,0,0\\r\\n')\n",
    "# 2024-01-25 14:23:47 .get_data (name=ne300, save=False)\n",
    "# (0, '28/2/2024 15:43:38,13.717136,2.425864,19.598263,2.699717,24.439505,3.250718,25.61,0,0.00,967.7,0,0\\r\\n')\n",
    "# # Initialize NE300 (name: ne300  S/N: 23-0690)\n",
    "# b'\\x020x0'"
   ]
  },
  {
   "cell_type": "code",
   "execution_count": null,
   "metadata": {},
   "outputs": [],
   "source": [
    "# stx = bytes(chr(2).encode())\n",
    "# cmd = r'1'.encode()\n",
    "# etx = chr(3).encode()\n",
    "# zip(stx, cmd, etx)\n",
    "# bytes([a ^ b ^ c for a, b, c in zip(stx, cmd, etx)])"
   ]
  }
 ],
 "metadata": {
  "kernelspec": {
   "display_name": "Python 3",
   "language": "python",
   "name": "python3"
  },
  "language_info": {
   "codemirror_mode": {
    "name": "ipython",
    "version": 3
   },
   "file_extension": ".py",
   "mimetype": "text/x-python",
   "name": "python",
   "nbconvert_exporter": "python",
   "pygments_lexer": "ipython3",
   "version": "3.11.7"
  }
 },
 "nbformat": 4,
 "nbformat_minor": 2
}
